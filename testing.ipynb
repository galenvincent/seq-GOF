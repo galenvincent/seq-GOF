{
 "cells": [
  {
   "cell_type": "code",
   "execution_count": 1,
   "source": [
    "import sequentialGOF as gof"
   ],
   "outputs": [],
   "metadata": {}
  },
  {
   "cell_type": "code",
   "execution_count": 2,
   "source": [
    "a = gof.NormalSequence(0, 1)\n",
    "b = gof.NormalSequence(2, 1)"
   ],
   "outputs": [],
   "metadata": {}
  },
  {
   "cell_type": "code",
   "execution_count": 4,
   "source": [
    "ns = gof.Simulation(gof.NormalSequence(0, 1), gof.NormalSequence(2, 1), 15, 20, 25, 25)"
   ],
   "outputs": [],
   "metadata": {}
  },
  {
   "cell_type": "code",
   "execution_count": 5,
   "source": [
    "knn = gof.KnnRegressor(variables=['x'])"
   ],
   "outputs": [],
   "metadata": {}
  },
  {
   "cell_type": "code",
   "execution_count": 6,
   "source": [
    "ns.test(knn, progress_bar=True)"
   ],
   "outputs": [
    {
     "output_type": "stream",
     "name": "stderr",
     "text": [
      "/Users/galen/anaconda3/envs/seq-goodness-of-fit/lib/python3.7/site-packages/sklearn/model_selection/_validation.py:700: UserWarning: Scoring failed. The score on this train-test partition for these parameters will be set to nan. Details: \n",
      "Traceback (most recent call last):\n",
      "  File \"/Users/galen/anaconda3/envs/seq-goodness-of-fit/lib/python3.7/site-packages/sklearn/model_selection/_validation.py\", line 687, in _score\n",
      "    scores = scorer(estimator, X_test, y_test)\n",
      "  File \"/Users/galen/anaconda3/envs/seq-goodness-of-fit/lib/python3.7/site-packages/sklearn/metrics/_scorer.py\", line 88, in __call__\n",
      "    *args, **kwargs)\n",
      "  File \"/Users/galen/anaconda3/envs/seq-goodness-of-fit/lib/python3.7/site-packages/sklearn/metrics/_scorer.py\", line 277, in _score\n",
      "    y_pred = method_caller(clf, \"predict_proba\", X)\n",
      "  File \"/Users/galen/anaconda3/envs/seq-goodness-of-fit/lib/python3.7/site-packages/sklearn/metrics/_scorer.py\", line 53, in _cached_call\n",
      "    return getattr(estimator, method)(*args, **kwargs)\n",
      "  File \"/Users/galen/anaconda3/envs/seq-goodness-of-fit/lib/python3.7/site-packages/sklearn/neighbors/_classification.py\", line 241, in predict_proba\n",
      "    neigh_dist, neigh_ind = self.kneighbors(X)\n",
      "  File \"/Users/galen/anaconda3/envs/seq-goodness-of-fit/lib/python3.7/site-packages/sklearn/neighbors/_base.py\", line 683, in kneighbors\n",
      "    (n_samples_fit, n_neighbors)\n",
      "ValueError: Expected n_neighbors <= n_samples,  but n_samples = 31, n_neighbors = 33\n",
      "\n",
      "  UserWarning,\n",
      "/Users/galen/anaconda3/envs/seq-goodness-of-fit/lib/python3.7/site-packages/sklearn/model_selection/_validation.py:700: UserWarning: Scoring failed. The score on this train-test partition for these parameters will be set to nan. Details: \n",
      "Traceback (most recent call last):\n",
      "  File \"/Users/galen/anaconda3/envs/seq-goodness-of-fit/lib/python3.7/site-packages/sklearn/model_selection/_validation.py\", line 687, in _score\n",
      "    scores = scorer(estimator, X_test, y_test)\n",
      "  File \"/Users/galen/anaconda3/envs/seq-goodness-of-fit/lib/python3.7/site-packages/sklearn/metrics/_scorer.py\", line 88, in __call__\n",
      "    *args, **kwargs)\n",
      "  File \"/Users/galen/anaconda3/envs/seq-goodness-of-fit/lib/python3.7/site-packages/sklearn/metrics/_scorer.py\", line 277, in _score\n",
      "    y_pred = method_caller(clf, \"predict_proba\", X)\n",
      "  File \"/Users/galen/anaconda3/envs/seq-goodness-of-fit/lib/python3.7/site-packages/sklearn/metrics/_scorer.py\", line 53, in _cached_call\n",
      "    return getattr(estimator, method)(*args, **kwargs)\n",
      "  File \"/Users/galen/anaconda3/envs/seq-goodness-of-fit/lib/python3.7/site-packages/sklearn/neighbors/_classification.py\", line 241, in predict_proba\n",
      "    neigh_dist, neigh_ind = self.kneighbors(X)\n",
      "  File \"/Users/galen/anaconda3/envs/seq-goodness-of-fit/lib/python3.7/site-packages/sklearn/neighbors/_base.py\", line 683, in kneighbors\n",
      "    (n_samples_fit, n_neighbors)\n",
      "ValueError: Expected n_neighbors <= n_samples,  but n_samples = 31, n_neighbors = 33\n",
      "\n",
      "  UserWarning,\n",
      "/Users/galen/anaconda3/envs/seq-goodness-of-fit/lib/python3.7/site-packages/sklearn/model_selection/_validation.py:700: UserWarning: Scoring failed. The score on this train-test partition for these parameters will be set to nan. Details: \n",
      "Traceback (most recent call last):\n",
      "  File \"/Users/galen/anaconda3/envs/seq-goodness-of-fit/lib/python3.7/site-packages/sklearn/model_selection/_validation.py\", line 687, in _score\n",
      "    scores = scorer(estimator, X_test, y_test)\n",
      "  File \"/Users/galen/anaconda3/envs/seq-goodness-of-fit/lib/python3.7/site-packages/sklearn/metrics/_scorer.py\", line 88, in __call__\n",
      "    *args, **kwargs)\n",
      "  File \"/Users/galen/anaconda3/envs/seq-goodness-of-fit/lib/python3.7/site-packages/sklearn/metrics/_scorer.py\", line 277, in _score\n",
      "    y_pred = method_caller(clf, \"predict_proba\", X)\n",
      "  File \"/Users/galen/anaconda3/envs/seq-goodness-of-fit/lib/python3.7/site-packages/sklearn/metrics/_scorer.py\", line 53, in _cached_call\n",
      "    return getattr(estimator, method)(*args, **kwargs)\n",
      "  File \"/Users/galen/anaconda3/envs/seq-goodness-of-fit/lib/python3.7/site-packages/sklearn/neighbors/_classification.py\", line 241, in predict_proba\n",
      "    neigh_dist, neigh_ind = self.kneighbors(X)\n",
      "  File \"/Users/galen/anaconda3/envs/seq-goodness-of-fit/lib/python3.7/site-packages/sklearn/neighbors/_base.py\", line 683, in kneighbors\n",
      "    (n_samples_fit, n_neighbors)\n",
      "ValueError: Expected n_neighbors <= n_samples,  but n_samples = 31, n_neighbors = 33\n",
      "\n",
      "  UserWarning,\n",
      "/Users/galen/anaconda3/envs/seq-goodness-of-fit/lib/python3.7/site-packages/sklearn/model_selection/_validation.py:700: UserWarning: Scoring failed. The score on this train-test partition for these parameters will be set to nan. Details: \n",
      "Traceback (most recent call last):\n",
      "  File \"/Users/galen/anaconda3/envs/seq-goodness-of-fit/lib/python3.7/site-packages/sklearn/model_selection/_validation.py\", line 687, in _score\n",
      "    scores = scorer(estimator, X_test, y_test)\n",
      "  File \"/Users/galen/anaconda3/envs/seq-goodness-of-fit/lib/python3.7/site-packages/sklearn/metrics/_scorer.py\", line 88, in __call__\n",
      "    *args, **kwargs)\n",
      "  File \"/Users/galen/anaconda3/envs/seq-goodness-of-fit/lib/python3.7/site-packages/sklearn/metrics/_scorer.py\", line 277, in _score\n",
      "    y_pred = method_caller(clf, \"predict_proba\", X)\n",
      "  File \"/Users/galen/anaconda3/envs/seq-goodness-of-fit/lib/python3.7/site-packages/sklearn/metrics/_scorer.py\", line 53, in _cached_call\n",
      "    return getattr(estimator, method)(*args, **kwargs)\n",
      "  File \"/Users/galen/anaconda3/envs/seq-goodness-of-fit/lib/python3.7/site-packages/sklearn/neighbors/_classification.py\", line 241, in predict_proba\n",
      "    neigh_dist, neigh_ind = self.kneighbors(X)\n",
      "  File \"/Users/galen/anaconda3/envs/seq-goodness-of-fit/lib/python3.7/site-packages/sklearn/neighbors/_base.py\", line 683, in kneighbors\n",
      "    (n_samples_fit, n_neighbors)\n",
      "ValueError: Expected n_neighbors <= n_samples,  but n_samples = 31, n_neighbors = 33\n",
      "\n",
      "  UserWarning,\n",
      "/Users/galen/anaconda3/envs/seq-goodness-of-fit/lib/python3.7/site-packages/sklearn/model_selection/_validation.py:700: UserWarning: Scoring failed. The score on this train-test partition for these parameters will be set to nan. Details: \n",
      "Traceback (most recent call last):\n",
      "  File \"/Users/galen/anaconda3/envs/seq-goodness-of-fit/lib/python3.7/site-packages/sklearn/model_selection/_validation.py\", line 687, in _score\n",
      "    scores = scorer(estimator, X_test, y_test)\n",
      "  File \"/Users/galen/anaconda3/envs/seq-goodness-of-fit/lib/python3.7/site-packages/sklearn/metrics/_scorer.py\", line 88, in __call__\n",
      "    *args, **kwargs)\n",
      "  File \"/Users/galen/anaconda3/envs/seq-goodness-of-fit/lib/python3.7/site-packages/sklearn/metrics/_scorer.py\", line 277, in _score\n",
      "    y_pred = method_caller(clf, \"predict_proba\", X)\n",
      "  File \"/Users/galen/anaconda3/envs/seq-goodness-of-fit/lib/python3.7/site-packages/sklearn/metrics/_scorer.py\", line 53, in _cached_call\n",
      "    return getattr(estimator, method)(*args, **kwargs)\n",
      "  File \"/Users/galen/anaconda3/envs/seq-goodness-of-fit/lib/python3.7/site-packages/sklearn/neighbors/_classification.py\", line 241, in predict_proba\n",
      "    neigh_dist, neigh_ind = self.kneighbors(X)\n",
      "  File \"/Users/galen/anaconda3/envs/seq-goodness-of-fit/lib/python3.7/site-packages/sklearn/neighbors/_base.py\", line 683, in kneighbors\n",
      "    (n_samples_fit, n_neighbors)\n",
      "ValueError: Expected n_neighbors <= n_samples,  but n_samples = 31, n_neighbors = 33\n",
      "\n",
      "  UserWarning,\n",
      "/Users/galen/anaconda3/envs/seq-goodness-of-fit/lib/python3.7/site-packages/sklearn/model_selection/_validation.py:700: UserWarning: Scoring failed. The score on this train-test partition for these parameters will be set to nan. Details: \n",
      "Traceback (most recent call last):\n",
      "  File \"/Users/galen/anaconda3/envs/seq-goodness-of-fit/lib/python3.7/site-packages/sklearn/model_selection/_validation.py\", line 687, in _score\n",
      "    scores = scorer(estimator, X_test, y_test)\n",
      "  File \"/Users/galen/anaconda3/envs/seq-goodness-of-fit/lib/python3.7/site-packages/sklearn/metrics/_scorer.py\", line 88, in __call__\n",
      "    *args, **kwargs)\n",
      "  File \"/Users/galen/anaconda3/envs/seq-goodness-of-fit/lib/python3.7/site-packages/sklearn/metrics/_scorer.py\", line 277, in _score\n",
      "    y_pred = method_caller(clf, \"predict_proba\", X)\n",
      "  File \"/Users/galen/anaconda3/envs/seq-goodness-of-fit/lib/python3.7/site-packages/sklearn/metrics/_scorer.py\", line 53, in _cached_call\n",
      "    return getattr(estimator, method)(*args, **kwargs)\n",
      "  File \"/Users/galen/anaconda3/envs/seq-goodness-of-fit/lib/python3.7/site-packages/sklearn/neighbors/_classification.py\", line 241, in predict_proba\n",
      "    neigh_dist, neigh_ind = self.kneighbors(X)\n",
      "  File \"/Users/galen/anaconda3/envs/seq-goodness-of-fit/lib/python3.7/site-packages/sklearn/neighbors/_base.py\", line 683, in kneighbors\n",
      "    (n_samples_fit, n_neighbors)\n",
      "ValueError: Expected n_neighbors <= n_samples,  but n_samples = 32, n_neighbors = 33\n",
      "\n",
      "  UserWarning,\n",
      "/Users/galen/anaconda3/envs/seq-goodness-of-fit/lib/python3.7/site-packages/sklearn/model_selection/_validation.py:700: UserWarning: Scoring failed. The score on this train-test partition for these parameters will be set to nan. Details: \n",
      "Traceback (most recent call last):\n",
      "  File \"/Users/galen/anaconda3/envs/seq-goodness-of-fit/lib/python3.7/site-packages/sklearn/model_selection/_validation.py\", line 687, in _score\n",
      "    scores = scorer(estimator, X_test, y_test)\n",
      "  File \"/Users/galen/anaconda3/envs/seq-goodness-of-fit/lib/python3.7/site-packages/sklearn/metrics/_scorer.py\", line 88, in __call__\n",
      "    *args, **kwargs)\n",
      "  File \"/Users/galen/anaconda3/envs/seq-goodness-of-fit/lib/python3.7/site-packages/sklearn/metrics/_scorer.py\", line 277, in _score\n",
      "    y_pred = method_caller(clf, \"predict_proba\", X)\n",
      "  File \"/Users/galen/anaconda3/envs/seq-goodness-of-fit/lib/python3.7/site-packages/sklearn/metrics/_scorer.py\", line 53, in _cached_call\n",
      "    return getattr(estimator, method)(*args, **kwargs)\n",
      "  File \"/Users/galen/anaconda3/envs/seq-goodness-of-fit/lib/python3.7/site-packages/sklearn/neighbors/_classification.py\", line 241, in predict_proba\n",
      "    neigh_dist, neigh_ind = self.kneighbors(X)\n",
      "  File \"/Users/galen/anaconda3/envs/seq-goodness-of-fit/lib/python3.7/site-packages/sklearn/neighbors/_base.py\", line 683, in kneighbors\n",
      "    (n_samples_fit, n_neighbors)\n",
      "ValueError: Expected n_neighbors <= n_samples,  but n_samples = 32, n_neighbors = 33\n",
      "\n",
      "  UserWarning,\n",
      "/Users/galen/anaconda3/envs/seq-goodness-of-fit/lib/python3.7/site-packages/sklearn/model_selection/_validation.py:700: UserWarning: Scoring failed. The score on this train-test partition for these parameters will be set to nan. Details: \n",
      "Traceback (most recent call last):\n",
      "  File \"/Users/galen/anaconda3/envs/seq-goodness-of-fit/lib/python3.7/site-packages/sklearn/model_selection/_validation.py\", line 687, in _score\n",
      "    scores = scorer(estimator, X_test, y_test)\n",
      "  File \"/Users/galen/anaconda3/envs/seq-goodness-of-fit/lib/python3.7/site-packages/sklearn/metrics/_scorer.py\", line 88, in __call__\n",
      "    *args, **kwargs)\n",
      "  File \"/Users/galen/anaconda3/envs/seq-goodness-of-fit/lib/python3.7/site-packages/sklearn/metrics/_scorer.py\", line 277, in _score\n",
      "    y_pred = method_caller(clf, \"predict_proba\", X)\n",
      "  File \"/Users/galen/anaconda3/envs/seq-goodness-of-fit/lib/python3.7/site-packages/sklearn/metrics/_scorer.py\", line 53, in _cached_call\n",
      "    return getattr(estimator, method)(*args, **kwargs)\n",
      "  File \"/Users/galen/anaconda3/envs/seq-goodness-of-fit/lib/python3.7/site-packages/sklearn/neighbors/_classification.py\", line 241, in predict_proba\n",
      "    neigh_dist, neigh_ind = self.kneighbors(X)\n",
      "  File \"/Users/galen/anaconda3/envs/seq-goodness-of-fit/lib/python3.7/site-packages/sklearn/neighbors/_base.py\", line 683, in kneighbors\n",
      "    (n_samples_fit, n_neighbors)\n",
      "ValueError: Expected n_neighbors <= n_samples,  but n_samples = 32, n_neighbors = 33\n",
      "\n",
      "  UserWarning,\n",
      "/Users/galen/anaconda3/envs/seq-goodness-of-fit/lib/python3.7/site-packages/sklearn/model_selection/_validation.py:700: UserWarning: Scoring failed. The score on this train-test partition for these parameters will be set to nan. Details: \n",
      "Traceback (most recent call last):\n",
      "  File \"/Users/galen/anaconda3/envs/seq-goodness-of-fit/lib/python3.7/site-packages/sklearn/model_selection/_validation.py\", line 687, in _score\n",
      "    scores = scorer(estimator, X_test, y_test)\n",
      "  File \"/Users/galen/anaconda3/envs/seq-goodness-of-fit/lib/python3.7/site-packages/sklearn/metrics/_scorer.py\", line 88, in __call__\n",
      "    *args, **kwargs)\n",
      "  File \"/Users/galen/anaconda3/envs/seq-goodness-of-fit/lib/python3.7/site-packages/sklearn/metrics/_scorer.py\", line 277, in _score\n",
      "    y_pred = method_caller(clf, \"predict_proba\", X)\n",
      "  File \"/Users/galen/anaconda3/envs/seq-goodness-of-fit/lib/python3.7/site-packages/sklearn/metrics/_scorer.py\", line 53, in _cached_call\n",
      "    return getattr(estimator, method)(*args, **kwargs)\n",
      "  File \"/Users/galen/anaconda3/envs/seq-goodness-of-fit/lib/python3.7/site-packages/sklearn/neighbors/_classification.py\", line 241, in predict_proba\n",
      "    neigh_dist, neigh_ind = self.kneighbors(X)\n",
      "  File \"/Users/galen/anaconda3/envs/seq-goodness-of-fit/lib/python3.7/site-packages/sklearn/neighbors/_base.py\", line 683, in kneighbors\n",
      "    (n_samples_fit, n_neighbors)\n",
      "ValueError: Expected n_neighbors <= n_samples,  but n_samples = 32, n_neighbors = 33\n",
      "\n",
      "  UserWarning,\n",
      "/Users/galen/anaconda3/envs/seq-goodness-of-fit/lib/python3.7/site-packages/sklearn/model_selection/_validation.py:700: UserWarning: Scoring failed. The score on this train-test partition for these parameters will be set to nan. Details: \n",
      "Traceback (most recent call last):\n",
      "  File \"/Users/galen/anaconda3/envs/seq-goodness-of-fit/lib/python3.7/site-packages/sklearn/model_selection/_validation.py\", line 687, in _score\n",
      "    scores = scorer(estimator, X_test, y_test)\n",
      "  File \"/Users/galen/anaconda3/envs/seq-goodness-of-fit/lib/python3.7/site-packages/sklearn/metrics/_scorer.py\", line 88, in __call__\n",
      "    *args, **kwargs)\n",
      "  File \"/Users/galen/anaconda3/envs/seq-goodness-of-fit/lib/python3.7/site-packages/sklearn/metrics/_scorer.py\", line 277, in _score\n",
      "    y_pred = method_caller(clf, \"predict_proba\", X)\n",
      "  File \"/Users/galen/anaconda3/envs/seq-goodness-of-fit/lib/python3.7/site-packages/sklearn/metrics/_scorer.py\", line 53, in _cached_call\n",
      "    return getattr(estimator, method)(*args, **kwargs)\n",
      "  File \"/Users/galen/anaconda3/envs/seq-goodness-of-fit/lib/python3.7/site-packages/sklearn/neighbors/_classification.py\", line 241, in predict_proba\n",
      "    neigh_dist, neigh_ind = self.kneighbors(X)\n",
      "  File \"/Users/galen/anaconda3/envs/seq-goodness-of-fit/lib/python3.7/site-packages/sklearn/neighbors/_base.py\", line 683, in kneighbors\n",
      "    (n_samples_fit, n_neighbors)\n",
      "ValueError: Expected n_neighbors <= n_samples,  but n_samples = 32, n_neighbors = 33\n",
      "\n",
      "  UserWarning,\n"
     ]
    },
    {
     "output_type": "error",
     "ename": "IndexError",
     "evalue": "index 0 is out of bounds for axis 0 with size 0",
     "traceback": [
      "\u001b[0;31m---------------------------------------------------------------------------\u001b[0m",
      "\u001b[0;31mIndexError\u001b[0m                                Traceback (most recent call last)",
      "\u001b[0;32m<ipython-input-6-360064295f49>\u001b[0m in \u001b[0;36m<module>\u001b[0;34m\u001b[0m\n\u001b[0;32m----> 1\u001b[0;31m \u001b[0mns\u001b[0m\u001b[0;34m.\u001b[0m\u001b[0mtest\u001b[0m\u001b[0;34m(\u001b[0m\u001b[0mknn\u001b[0m\u001b[0;34m,\u001b[0m \u001b[0mprogress_bar\u001b[0m\u001b[0;34m=\u001b[0m\u001b[0;32mTrue\u001b[0m\u001b[0;34m)\u001b[0m\u001b[0;34m\u001b[0m\u001b[0;34m\u001b[0m\u001b[0m\n\u001b[0m",
      "\u001b[0;32m~/Documents/Research/seq-GOF/sequentialGOF.py\u001b[0m in \u001b[0;36mtest\u001b[0;34m(self, regression, B, progress_bar)\u001b[0m\n\u001b[1;32m    207\u001b[0m \u001b[0;34m\u001b[0m\u001b[0m\n\u001b[1;32m    208\u001b[0m         \u001b[0;31m# Fit regression and get/save local scores\u001b[0m\u001b[0;34m\u001b[0m\u001b[0;34m\u001b[0m\u001b[0;34m\u001b[0m\u001b[0m\n\u001b[0;32m--> 209\u001b[0;31m         \u001b[0mself\u001b[0m\u001b[0;34m.\u001b[0m\u001b[0mr0\u001b[0m\u001b[0;34m.\u001b[0m\u001b[0mfit\u001b[0m\u001b[0;34m(\u001b[0m\u001b[0mself\u001b[0m\u001b[0;34m.\u001b[0m\u001b[0mdata\u001b[0m\u001b[0;34m.\u001b[0m\u001b[0mtraining\u001b[0m\u001b[0;34m)\u001b[0m\u001b[0;34m\u001b[0m\u001b[0;34m\u001b[0m\u001b[0m\n\u001b[0m\u001b[1;32m    210\u001b[0m         \u001b[0mself\u001b[0m\u001b[0;34m.\u001b[0m\u001b[0mpi_hat\u001b[0m \u001b[0;34m=\u001b[0m \u001b[0mself\u001b[0m\u001b[0;34m.\u001b[0m\u001b[0mdata\u001b[0m\u001b[0;34m.\u001b[0m\u001b[0mtraining\u001b[0m\u001b[0;34m[\u001b[0m\u001b[0;34m'Y'\u001b[0m\u001b[0;34m]\u001b[0m\u001b[0;34m.\u001b[0m\u001b[0mmean\u001b[0m\u001b[0;34m(\u001b[0m\u001b[0;34m)\u001b[0m\u001b[0;34m\u001b[0m\u001b[0;34m\u001b[0m\u001b[0m\n\u001b[1;32m    211\u001b[0m         \u001b[0mself\u001b[0m\u001b[0;34m.\u001b[0m\u001b[0mp0\u001b[0m \u001b[0;34m=\u001b[0m \u001b[0mself\u001b[0m\u001b[0;34m.\u001b[0m\u001b[0mr0\u001b[0m\u001b[0;34m.\u001b[0m\u001b[0mpredict\u001b[0m\u001b[0;34m(\u001b[0m\u001b[0mself\u001b[0m\u001b[0;34m.\u001b[0m\u001b[0mdata\u001b[0m\u001b[0;34m.\u001b[0m\u001b[0mevaluation\u001b[0m\u001b[0;34m)\u001b[0m \u001b[0;34m-\u001b[0m \u001b[0mself\u001b[0m\u001b[0;34m.\u001b[0m\u001b[0mpi_hat\u001b[0m\u001b[0;34m\u001b[0m\u001b[0;34m\u001b[0m\u001b[0m\n",
      "\u001b[0;32m~/Documents/Research/seq-GOF/sequentialGOF.py\u001b[0m in \u001b[0;36mfit\u001b[0;34m(self, data)\u001b[0m\n\u001b[1;32m    156\u001b[0m                                            ).mean()\n\u001b[1;32m    157\u001b[0m                 \u001b[0mii\u001b[0m \u001b[0;34m+=\u001b[0m \u001b[0;36m1\u001b[0m\u001b[0;34m\u001b[0m\u001b[0;34m\u001b[0m\u001b[0m\n\u001b[0;32m--> 158\u001b[0;31m             \u001b[0mself\u001b[0m\u001b[0;34m.\u001b[0m\u001b[0mk\u001b[0m \u001b[0;34m=\u001b[0m \u001b[0mks\u001b[0m\u001b[0;34m[\u001b[0m\u001b[0mnp\u001b[0m\u001b[0;34m.\u001b[0m\u001b[0mwhere\u001b[0m\u001b[0;34m(\u001b[0m\u001b[0mloss\u001b[0m \u001b[0;34m==\u001b[0m \u001b[0mloss\u001b[0m\u001b[0;34m.\u001b[0m\u001b[0mmin\u001b[0m\u001b[0;34m(\u001b[0m\u001b[0;34m)\u001b[0m\u001b[0;34m)\u001b[0m\u001b[0;34m[\u001b[0m\u001b[0;36m0\u001b[0m\u001b[0;34m]\u001b[0m\u001b[0;34m[\u001b[0m\u001b[0;36m0\u001b[0m\u001b[0;34m]\u001b[0m\u001b[0;34m]\u001b[0m\u001b[0;34m\u001b[0m\u001b[0;34m\u001b[0m\u001b[0m\n\u001b[0m\u001b[1;32m    159\u001b[0m             \u001b[0mself\u001b[0m\u001b[0;34m.\u001b[0m\u001b[0mregression\u001b[0m \u001b[0;34m=\u001b[0m \u001b[0mnn\u001b[0m\u001b[0;34m.\u001b[0m\u001b[0mKNeighborsClassifier\u001b[0m\u001b[0;34m(\u001b[0m\u001b[0mn_neighbors\u001b[0m\u001b[0;34m=\u001b[0m\u001b[0mself\u001b[0m\u001b[0;34m.\u001b[0m\u001b[0mk\u001b[0m\u001b[0;34m)\u001b[0m\u001b[0;34m\u001b[0m\u001b[0;34m\u001b[0m\u001b[0m\n\u001b[1;32m    160\u001b[0m             self.regression.fit(\n",
      "\u001b[0;31mIndexError\u001b[0m: index 0 is out of bounds for axis 0 with size 0"
     ]
    }
   ],
   "metadata": {}
  },
  {
   "cell_type": "code",
   "execution_count": 7,
   "source": [
    "ns.data.evaluation"
   ],
   "outputs": [
    {
     "output_type": "execute_result",
     "data": {
      "text/plain": [
       "            x  Y  local_stat  prob_est  local_pval  imp_score  imp_score_sign\n",
       "0   -0.730067  1    0.453846  0.953846    0.004975      201.0               1\n",
       "1   -0.127140  1    0.392308  0.892308    0.004975      201.0               1\n",
       "2   -0.448420  1    0.423077  0.923077    0.004975      201.0               1\n",
       "3    0.142048  1    0.346154  0.846154    0.004975      201.0               1\n",
       "4    0.092556  1    0.346154  0.846154    0.004975      201.0               1\n",
       "..        ... ..         ...       ...         ...        ...             ...\n",
       "195  2.735243  0   -0.453846  0.046154    0.004975      201.0              -1\n",
       "196  2.032708  0   -0.376923  0.123077    0.004975      201.0              -1\n",
       "197  3.400874  0   -0.469231  0.030769    0.004975      201.0              -1\n",
       "198  1.930615  0   -0.346154  0.153846    0.004975      201.0              -1\n",
       "199  3.277422  0   -0.469231  0.030769    0.004975      201.0              -1\n",
       "\n",
       "[200 rows x 7 columns]"
      ],
      "text/html": [
       "<div>\n",
       "<style scoped>\n",
       "    .dataframe tbody tr th:only-of-type {\n",
       "        vertical-align: middle;\n",
       "    }\n",
       "\n",
       "    .dataframe tbody tr th {\n",
       "        vertical-align: top;\n",
       "    }\n",
       "\n",
       "    .dataframe thead th {\n",
       "        text-align: right;\n",
       "    }\n",
       "</style>\n",
       "<table border=\"1\" class=\"dataframe\">\n",
       "  <thead>\n",
       "    <tr style=\"text-align: right;\">\n",
       "      <th></th>\n",
       "      <th>x</th>\n",
       "      <th>Y</th>\n",
       "      <th>local_stat</th>\n",
       "      <th>prob_est</th>\n",
       "      <th>local_pval</th>\n",
       "      <th>imp_score</th>\n",
       "      <th>imp_score_sign</th>\n",
       "    </tr>\n",
       "  </thead>\n",
       "  <tbody>\n",
       "    <tr>\n",
       "      <th>0</th>\n",
       "      <td>-0.730067</td>\n",
       "      <td>1</td>\n",
       "      <td>0.453846</td>\n",
       "      <td>0.953846</td>\n",
       "      <td>0.004975</td>\n",
       "      <td>201.0</td>\n",
       "      <td>1</td>\n",
       "    </tr>\n",
       "    <tr>\n",
       "      <th>1</th>\n",
       "      <td>-0.127140</td>\n",
       "      <td>1</td>\n",
       "      <td>0.392308</td>\n",
       "      <td>0.892308</td>\n",
       "      <td>0.004975</td>\n",
       "      <td>201.0</td>\n",
       "      <td>1</td>\n",
       "    </tr>\n",
       "    <tr>\n",
       "      <th>2</th>\n",
       "      <td>-0.448420</td>\n",
       "      <td>1</td>\n",
       "      <td>0.423077</td>\n",
       "      <td>0.923077</td>\n",
       "      <td>0.004975</td>\n",
       "      <td>201.0</td>\n",
       "      <td>1</td>\n",
       "    </tr>\n",
       "    <tr>\n",
       "      <th>3</th>\n",
       "      <td>0.142048</td>\n",
       "      <td>1</td>\n",
       "      <td>0.346154</td>\n",
       "      <td>0.846154</td>\n",
       "      <td>0.004975</td>\n",
       "      <td>201.0</td>\n",
       "      <td>1</td>\n",
       "    </tr>\n",
       "    <tr>\n",
       "      <th>4</th>\n",
       "      <td>0.092556</td>\n",
       "      <td>1</td>\n",
       "      <td>0.346154</td>\n",
       "      <td>0.846154</td>\n",
       "      <td>0.004975</td>\n",
       "      <td>201.0</td>\n",
       "      <td>1</td>\n",
       "    </tr>\n",
       "    <tr>\n",
       "      <th>...</th>\n",
       "      <td>...</td>\n",
       "      <td>...</td>\n",
       "      <td>...</td>\n",
       "      <td>...</td>\n",
       "      <td>...</td>\n",
       "      <td>...</td>\n",
       "      <td>...</td>\n",
       "    </tr>\n",
       "    <tr>\n",
       "      <th>195</th>\n",
       "      <td>2.735243</td>\n",
       "      <td>0</td>\n",
       "      <td>-0.453846</td>\n",
       "      <td>0.046154</td>\n",
       "      <td>0.004975</td>\n",
       "      <td>201.0</td>\n",
       "      <td>-1</td>\n",
       "    </tr>\n",
       "    <tr>\n",
       "      <th>196</th>\n",
       "      <td>2.032708</td>\n",
       "      <td>0</td>\n",
       "      <td>-0.376923</td>\n",
       "      <td>0.123077</td>\n",
       "      <td>0.004975</td>\n",
       "      <td>201.0</td>\n",
       "      <td>-1</td>\n",
       "    </tr>\n",
       "    <tr>\n",
       "      <th>197</th>\n",
       "      <td>3.400874</td>\n",
       "      <td>0</td>\n",
       "      <td>-0.469231</td>\n",
       "      <td>0.030769</td>\n",
       "      <td>0.004975</td>\n",
       "      <td>201.0</td>\n",
       "      <td>-1</td>\n",
       "    </tr>\n",
       "    <tr>\n",
       "      <th>198</th>\n",
       "      <td>1.930615</td>\n",
       "      <td>0</td>\n",
       "      <td>-0.346154</td>\n",
       "      <td>0.153846</td>\n",
       "      <td>0.004975</td>\n",
       "      <td>201.0</td>\n",
       "      <td>-1</td>\n",
       "    </tr>\n",
       "    <tr>\n",
       "      <th>199</th>\n",
       "      <td>3.277422</td>\n",
       "      <td>0</td>\n",
       "      <td>-0.469231</td>\n",
       "      <td>0.030769</td>\n",
       "      <td>0.004975</td>\n",
       "      <td>201.0</td>\n",
       "      <td>-1</td>\n",
       "    </tr>\n",
       "  </tbody>\n",
       "</table>\n",
       "<p>200 rows × 7 columns</p>\n",
       "</div>"
      ]
     },
     "metadata": {},
     "execution_count": 7
    }
   ],
   "metadata": {}
  },
  {
   "cell_type": "code",
   "execution_count": 10,
   "source": [
    "ns.data.evaluation.plot(kind='scatter',x='x',y='imp_score',color='red')"
   ],
   "outputs": [
    {
     "output_type": "execute_result",
     "data": {
      "text/plain": [
       "<AxesSubplot:xlabel='x', ylabel='imp_score'>"
      ]
     },
     "metadata": {},
     "execution_count": 10
    },
    {
     "output_type": "display_data",
     "data": {
      "text/plain": [
       "<Figure size 432x288 with 1 Axes>"
      ],
      "image/svg+xml": "<?xml version=\"1.0\" encoding=\"utf-8\" standalone=\"no\"?>\n<!DOCTYPE svg PUBLIC \"-//W3C//DTD SVG 1.1//EN\"\n  \"http://www.w3.org/Graphics/SVG/1.1/DTD/svg11.dtd\">\n<!-- Created with matplotlib (https://matplotlib.org/) -->\n<svg height=\"262.19625pt\" version=\"1.1\" viewBox=\"0 0 389.24375 262.19625\" width=\"389.24375pt\" xmlns=\"http://www.w3.org/2000/svg\" xmlns:xlink=\"http://www.w3.org/1999/xlink\">\n <metadata>\n  <rdf:RDF xmlns:cc=\"http://creativecommons.org/ns#\" xmlns:dc=\"http://purl.org/dc/elements/1.1/\" xmlns:rdf=\"http://www.w3.org/1999/02/22-rdf-syntax-ns#\">\n   <cc:Work>\n    <dc:type rdf:resource=\"http://purl.org/dc/dcmitype/StillImage\"/>\n    <dc:date>2021-08-25T14:32:07.167231</dc:date>\n    <dc:format>image/svg+xml</dc:format>\n    <dc:creator>\n     <cc:Agent>\n      <dc:title>Matplotlib v3.3.4, https://matplotlib.org/</dc:title>\n     </cc:Agent>\n    </dc:creator>\n   </cc:Work>\n  </rdf:RDF>\n </metadata>\n <defs>\n  <style type=\"text/css\">*{stroke-linecap:butt;stroke-linejoin:round;}</style>\n </defs>\n <g id=\"figure_1\">\n  <g id=\"patch_1\">\n   <path d=\"M -0 262.19625 \nL 389.24375 262.19625 \nL 389.24375 0 \nL -0 0 \nz\n\" style=\"fill:none;\"/>\n  </g>\n  <g id=\"axes_1\">\n   <g id=\"patch_2\">\n    <path d=\"M 47.24375 224.64 \nL 382.04375 224.64 \nL 382.04375 7.2 \nL 47.24375 7.2 \nz\n\" style=\"fill:#ffffff;\"/>\n   </g>\n   <g id=\"PathCollection_1\">\n    <defs>\n     <path d=\"M 0 2.236068 \nC 0.593012 2.236068 1.161816 2.000462 1.581139 1.581139 \nC 2.000462 1.161816 2.236068 0.593012 2.236068 0 \nC 2.236068 -0.593012 2.000462 -1.161816 1.581139 -1.581139 \nC 1.161816 -2.000462 0.593012 -2.236068 0 -2.236068 \nC -0.593012 -2.236068 -1.161816 -2.000462 -1.581139 -1.581139 \nC -2.000462 -1.161816 -2.236068 -0.593012 -2.236068 0 \nC -2.236068 0.593012 -2.000462 1.161816 -1.581139 1.581139 \nC -1.161816 2.000462 -0.593012 2.236068 0 2.236068 \nz\n\" id=\"m7bea288c6a\" style=\"stroke:#ff0000;\"/>\n    </defs>\n    <g clip-path=\"url(#pc139b4ca38)\">\n     <use style=\"fill:#ff0000;stroke:#ff0000;\" x=\"159.48276\" xlink:href=\"#m7bea288c6a\" y=\"17.083636\"/>\n     <use style=\"fill:#ff0000;stroke:#ff0000;\" x=\"184.07056\" xlink:href=\"#m7bea288c6a\" y=\"17.083636\"/>\n     <use style=\"fill:#ff0000;stroke:#ff0000;\" x=\"170.968519\" xlink:href=\"#m7bea288c6a\" y=\"17.083636\"/>\n     <use style=\"fill:#ff0000;stroke:#ff0000;\" x=\"195.048266\" xlink:href=\"#m7bea288c6a\" y=\"17.083636\"/>\n     <use style=\"fill:#ff0000;stroke:#ff0000;\" x=\"193.029918\" xlink:href=\"#m7bea288c6a\" y=\"17.083636\"/>\n     <use style=\"fill:#ff0000;stroke:#ff0000;\" x=\"181.017501\" xlink:href=\"#m7bea288c6a\" y=\"17.083636\"/>\n     <use style=\"fill:#ff0000;stroke:#ff0000;\" x=\"193.395559\" xlink:href=\"#m7bea288c6a\" y=\"17.083636\"/>\n     <use style=\"fill:#ff0000;stroke:#ff0000;\" x=\"211.466904\" xlink:href=\"#m7bea288c6a\" y=\"116.537727\"/>\n     <use style=\"fill:#ff0000;stroke:#ff0000;\" x=\"120.575007\" xlink:href=\"#m7bea288c6a\" y=\"17.083636\"/>\n     <use style=\"fill:#ff0000;stroke:#ff0000;\" x=\"184.206234\" xlink:href=\"#m7bea288c6a\" y=\"17.083636\"/>\n     <use style=\"fill:#ff0000;stroke:#ff0000;\" x=\"168.635651\" xlink:href=\"#m7bea288c6a\" y=\"17.083636\"/>\n     <use style=\"fill:#ff0000;stroke:#ff0000;\" x=\"165.999479\" xlink:href=\"#m7bea288c6a\" y=\"17.083636\"/>\n     <use style=\"fill:#ff0000;stroke:#ff0000;\" x=\"194.851379\" xlink:href=\"#m7bea288c6a\" y=\"17.083636\"/>\n     <use style=\"fill:#ff0000;stroke:#ff0000;\" x=\"183.200503\" xlink:href=\"#m7bea288c6a\" y=\"17.083636\"/>\n     <use style=\"fill:#ff0000;stroke:#ff0000;\" x=\"211.238159\" xlink:href=\"#m7bea288c6a\" y=\"116.537727\"/>\n     <use style=\"fill:#ff0000;stroke:#ff0000;\" x=\"173.126613\" xlink:href=\"#m7bea288c6a\" y=\"17.083636\"/>\n     <use style=\"fill:#ff0000;stroke:#ff0000;\" x=\"214.237163\" xlink:href=\"#m7bea288c6a\" y=\"166.264773\"/>\n     <use style=\"fill:#ff0000;stroke:#ff0000;\" x=\"190.809962\" xlink:href=\"#m7bea288c6a\" y=\"17.083636\"/>\n     <use style=\"fill:#ff0000;stroke:#ff0000;\" x=\"208.702508\" xlink:href=\"#m7bea288c6a\" y=\"116.537727\"/>\n     <use style=\"fill:#ff0000;stroke:#ff0000;\" x=\"218.557711\" xlink:href=\"#m7bea288c6a\" y=\"193.890909\"/>\n     <use style=\"fill:#ff0000;stroke:#ff0000;\" x=\"186.401304\" xlink:href=\"#m7bea288c6a\" y=\"17.083636\"/>\n     <use style=\"fill:#ff0000;stroke:#ff0000;\" x=\"157.52277\" xlink:href=\"#m7bea288c6a\" y=\"17.083636\"/>\n     <use style=\"fill:#ff0000;stroke:#ff0000;\" x=\"193.879875\" xlink:href=\"#m7bea288c6a\" y=\"17.083636\"/>\n     <use style=\"fill:#ff0000;stroke:#ff0000;\" x=\"225.753546\" xlink:href=\"#m7bea288c6a\" y=\"204.941364\"/>\n     <use style=\"fill:#ff0000;stroke:#ff0000;\" x=\"255.479538\" xlink:href=\"#m7bea288c6a\" y=\"176.210182\"/>\n     <use style=\"fill:#ff0000;stroke:#ff0000;\" x=\"102.060253\" xlink:href=\"#m7bea288c6a\" y=\"17.083636\"/>\n     <use style=\"fill:#ff0000;stroke:#ff0000;\" x=\"201.339163\" xlink:href=\"#m7bea288c6a\" y=\"17.083636\"/>\n     <use style=\"fill:#ff0000;stroke:#ff0000;\" x=\"234.948659\" xlink:href=\"#m7bea288c6a\" y=\"207.703977\"/>\n     <use style=\"fill:#ff0000;stroke:#ff0000;\" x=\"220.578235\" xlink:href=\"#m7bea288c6a\" y=\"187.576364\"/>\n     <use style=\"fill:#ff0000;stroke:#ff0000;\" x=\"168.713257\" xlink:href=\"#m7bea288c6a\" y=\"17.083636\"/>\n     <use style=\"fill:#ff0000;stroke:#ff0000;\" x=\"153.455082\" xlink:href=\"#m7bea288c6a\" y=\"17.083636\"/>\n     <use style=\"fill:#ff0000;stroke:#ff0000;\" x=\"164.338383\" xlink:href=\"#m7bea288c6a\" y=\"17.083636\"/>\n     <use style=\"fill:#ff0000;stroke:#ff0000;\" x=\"200.095564\" xlink:href=\"#m7bea288c6a\" y=\"17.083636\"/>\n     <use style=\"fill:#ff0000;stroke:#ff0000;\" x=\"208.688464\" xlink:href=\"#m7bea288c6a\" y=\"116.537727\"/>\n     <use style=\"fill:#ff0000;stroke:#ff0000;\" x=\"261.656412\" xlink:href=\"#m7bea288c6a\" y=\"17.083636\"/>\n     <use style=\"fill:#ff0000;stroke:#ff0000;\" x=\"181.26367\" xlink:href=\"#m7bea288c6a\" y=\"17.083636\"/>\n     <use style=\"fill:#ff0000;stroke:#ff0000;\" x=\"171.132705\" xlink:href=\"#m7bea288c6a\" y=\"17.083636\"/>\n     <use style=\"fill:#ff0000;stroke:#ff0000;\" x=\"114.461963\" xlink:href=\"#m7bea288c6a\" y=\"17.083636\"/>\n     <use style=\"fill:#ff0000;stroke:#ff0000;\" x=\"186.105992\" xlink:href=\"#m7bea288c6a\" y=\"17.083636\"/>\n     <use style=\"fill:#ff0000;stroke:#ff0000;\" x=\"62.461932\" xlink:href=\"#m7bea288c6a\" y=\"17.083636\"/>\n     <use style=\"fill:#ff0000;stroke:#ff0000;\" x=\"235.874603\" xlink:href=\"#m7bea288c6a\" y=\"207.703977\"/>\n     <use style=\"fill:#ff0000;stroke:#ff0000;\" x=\"212.370322\" xlink:href=\"#m7bea288c6a\" y=\"116.537727\"/>\n     <use style=\"fill:#ff0000;stroke:#ff0000;\" x=\"174.883572\" xlink:href=\"#m7bea288c6a\" y=\"17.083636\"/>\n     <use style=\"fill:#ff0000;stroke:#ff0000;\" x=\"238.850683\" xlink:href=\"#m7bea288c6a\" y=\"200.691189\"/>\n     <use style=\"fill:#ff0000;stroke:#ff0000;\" x=\"240.566846\" xlink:href=\"#m7bea288c6a\" y=\"200.691189\"/>\n     <use style=\"fill:#ff0000;stroke:#ff0000;\" x=\"222.555937\" xlink:href=\"#m7bea288c6a\" y=\"197.909256\"/>\n     <use style=\"fill:#ff0000;stroke:#ff0000;\" x=\"231.573605\" xlink:href=\"#m7bea288c6a\" y=\"214.756364\"/>\n     <use style=\"fill:#ff0000;stroke:#ff0000;\" x=\"233.409066\" xlink:href=\"#m7bea288c6a\" y=\"212.238834\"/>\n     <use style=\"fill:#ff0000;stroke:#ff0000;\" x=\"225.199806\" xlink:href=\"#m7bea288c6a\" y=\"199.416136\"/>\n     <use style=\"fill:#ff0000;stroke:#ff0000;\" x=\"308.881061\" xlink:href=\"#m7bea288c6a\" y=\"17.083636\"/>\n     <use style=\"fill:#ff0000;stroke:#ff0000;\" x=\"170.039548\" xlink:href=\"#m7bea288c6a\" y=\"17.083636\"/>\n     <use style=\"fill:#ff0000;stroke:#ff0000;\" x=\"174.828888\" xlink:href=\"#m7bea288c6a\" y=\"17.083636\"/>\n     <use style=\"fill:#ff0000;stroke:#ff0000;\" x=\"181.900871\" xlink:href=\"#m7bea288c6a\" y=\"17.083636\"/>\n     <use style=\"fill:#ff0000;stroke:#ff0000;\" x=\"102.648469\" xlink:href=\"#m7bea288c6a\" y=\"17.083636\"/>\n     <use style=\"fill:#ff0000;stroke:#ff0000;\" x=\"171.511149\" xlink:href=\"#m7bea288c6a\" y=\"17.083636\"/>\n     <use style=\"fill:#ff0000;stroke:#ff0000;\" x=\"212.294216\" xlink:href=\"#m7bea288c6a\" y=\"116.537727\"/>\n     <use style=\"fill:#ff0000;stroke:#ff0000;\" x=\"277.28324\" xlink:href=\"#m7bea288c6a\" y=\"17.083636\"/>\n     <use style=\"fill:#ff0000;stroke:#ff0000;\" x=\"173.535019\" xlink:href=\"#m7bea288c6a\" y=\"17.083636\"/>\n     <use style=\"fill:#ff0000;stroke:#ff0000;\" x=\"202.584372\" xlink:href=\"#m7bea288c6a\" y=\"17.083636\"/>\n     <use style=\"fill:#ff0000;stroke:#ff0000;\" x=\"173.800888\" xlink:href=\"#m7bea288c6a\" y=\"17.083636\"/>\n     <use style=\"fill:#ff0000;stroke:#ff0000;\" x=\"220.136592\" xlink:href=\"#m7bea288c6a\" y=\"187.576364\"/>\n     <use style=\"fill:#ff0000;stroke:#ff0000;\" x=\"163.16508\" xlink:href=\"#m7bea288c6a\" y=\"17.083636\"/>\n     <use style=\"fill:#ff0000;stroke:#ff0000;\" x=\"156.663407\" xlink:href=\"#m7bea288c6a\" y=\"17.083636\"/>\n     <use style=\"fill:#ff0000;stroke:#ff0000;\" x=\"149.4964\" xlink:href=\"#m7bea288c6a\" y=\"17.083636\"/>\n     <use style=\"fill:#ff0000;stroke:#ff0000;\" x=\"130.596461\" xlink:href=\"#m7bea288c6a\" y=\"17.083636\"/>\n     <use style=\"fill:#ff0000;stroke:#ff0000;\" x=\"174.274477\" xlink:href=\"#m7bea288c6a\" y=\"17.083636\"/>\n     <use style=\"fill:#ff0000;stroke:#ff0000;\" x=\"134.387659\" xlink:href=\"#m7bea288c6a\" y=\"17.083636\"/>\n     <use style=\"fill:#ff0000;stroke:#ff0000;\" x=\"219.587751\" xlink:href=\"#m7bea288c6a\" y=\"187.576364\"/>\n     <use style=\"fill:#ff0000;stroke:#ff0000;\" x=\"185.307603\" xlink:href=\"#m7bea288c6a\" y=\"17.083636\"/>\n     <use style=\"fill:#ff0000;stroke:#ff0000;\" x=\"132.132459\" xlink:href=\"#m7bea288c6a\" y=\"17.083636\"/>\n     <use style=\"fill:#ff0000;stroke:#ff0000;\" x=\"159.857842\" xlink:href=\"#m7bea288c6a\" y=\"17.083636\"/>\n     <use style=\"fill:#ff0000;stroke:#ff0000;\" x=\"91.13005\" xlink:href=\"#m7bea288c6a\" y=\"17.083636\"/>\n     <use style=\"fill:#ff0000;stroke:#ff0000;\" x=\"187.168854\" xlink:href=\"#m7bea288c6a\" y=\"17.083636\"/>\n     <use style=\"fill:#ff0000;stroke:#ff0000;\" x=\"205.204732\" xlink:href=\"#m7bea288c6a\" y=\"17.083636\"/>\n     <use style=\"fill:#ff0000;stroke:#ff0000;\" x=\"240.790349\" xlink:href=\"#m7bea288c6a\" y=\"199.416136\"/>\n     <use style=\"fill:#ff0000;stroke:#ff0000;\" x=\"123.429046\" xlink:href=\"#m7bea288c6a\" y=\"17.083636\"/>\n     <use style=\"fill:#ff0000;stroke:#ff0000;\" x=\"156.503049\" xlink:href=\"#m7bea288c6a\" y=\"17.083636\"/>\n     <use style=\"fill:#ff0000;stroke:#ff0000;\" x=\"261.289742\" xlink:href=\"#m7bea288c6a\" y=\"17.083636\"/>\n     <use style=\"fill:#ff0000;stroke:#ff0000;\" x=\"179.068921\" xlink:href=\"#m7bea288c6a\" y=\"17.083636\"/>\n     <use style=\"fill:#ff0000;stroke:#ff0000;\" x=\"265.820097\" xlink:href=\"#m7bea288c6a\" y=\"17.083636\"/>\n     <use style=\"fill:#ff0000;stroke:#ff0000;\" x=\"179.142602\" xlink:href=\"#m7bea288c6a\" y=\"17.083636\"/>\n     <use style=\"fill:#ff0000;stroke:#ff0000;\" x=\"225.545333\" xlink:href=\"#m7bea288c6a\" y=\"200.691189\"/>\n     <use style=\"fill:#ff0000;stroke:#ff0000;\" x=\"172.00523\" xlink:href=\"#m7bea288c6a\" y=\"17.083636\"/>\n     <use style=\"fill:#ff0000;stroke:#ff0000;\" x=\"133.515316\" xlink:href=\"#m7bea288c6a\" y=\"17.083636\"/>\n     <use style=\"fill:#ff0000;stroke:#ff0000;\" x=\"208.076507\" xlink:href=\"#m7bea288c6a\" y=\"116.537727\"/>\n     <use style=\"fill:#ff0000;stroke:#ff0000;\" x=\"228.622486\" xlink:href=\"#m7bea288c6a\" y=\"214.716766\"/>\n     <use style=\"fill:#ff0000;stroke:#ff0000;\" x=\"208.822735\" xlink:href=\"#m7bea288c6a\" y=\"116.537727\"/>\n     <use style=\"fill:#ff0000;stroke:#ff0000;\" x=\"194.47775\" xlink:href=\"#m7bea288c6a\" y=\"17.083636\"/>\n     <use style=\"fill:#ff0000;stroke:#ff0000;\" x=\"151.994458\" xlink:href=\"#m7bea288c6a\" y=\"17.083636\"/>\n     <use style=\"fill:#ff0000;stroke:#ff0000;\" x=\"261.896244\" xlink:href=\"#m7bea288c6a\" y=\"17.083636\"/>\n     <use style=\"fill:#ff0000;stroke:#ff0000;\" x=\"141.306699\" xlink:href=\"#m7bea288c6a\" y=\"17.083636\"/>\n     <use style=\"fill:#ff0000;stroke:#ff0000;\" x=\"209.606846\" xlink:href=\"#m7bea288c6a\" y=\"116.537727\"/>\n     <use style=\"fill:#ff0000;stroke:#ff0000;\" x=\"148.333347\" xlink:href=\"#m7bea288c6a\" y=\"17.083636\"/>\n     <use style=\"fill:#ff0000;stroke:#ff0000;\" x=\"146.369845\" xlink:href=\"#m7bea288c6a\" y=\"17.083636\"/>\n     <use style=\"fill:#ff0000;stroke:#ff0000;\" x=\"121.656854\" xlink:href=\"#m7bea288c6a\" y=\"17.083636\"/>\n     <use style=\"fill:#ff0000;stroke:#ff0000;\" x=\"145.286394\" xlink:href=\"#m7bea288c6a\" y=\"17.083636\"/>\n     <use style=\"fill:#ff0000;stroke:#ff0000;\" x=\"153.712715\" xlink:href=\"#m7bea288c6a\" y=\"17.083636\"/>\n     <use style=\"fill:#ff0000;stroke:#ff0000;\" x=\"152.029218\" xlink:href=\"#m7bea288c6a\" y=\"17.083636\"/>\n     <use style=\"fill:#ff0000;stroke:#ff0000;\" x=\"137.957571\" xlink:href=\"#m7bea288c6a\" y=\"17.083636\"/>\n     <use style=\"fill:#ff0000;stroke:#ff0000;\" x=\"191.379447\" xlink:href=\"#m7bea288c6a\" y=\"17.083636\"/>\n     <use style=\"fill:#ff0000;stroke:#ff0000;\" x=\"309.419154\" xlink:href=\"#m7bea288c6a\" y=\"17.083636\"/>\n     <use style=\"fill:#ff0000;stroke:#ff0000;\" x=\"284.73056\" xlink:href=\"#m7bea288c6a\" y=\"17.083636\"/>\n     <use style=\"fill:#ff0000;stroke:#ff0000;\" x=\"314.657428\" xlink:href=\"#m7bea288c6a\" y=\"17.083636\"/>\n     <use style=\"fill:#ff0000;stroke:#ff0000;\" x=\"234.621523\" xlink:href=\"#m7bea288c6a\" y=\"209.361545\"/>\n     <use style=\"fill:#ff0000;stroke:#ff0000;\" x=\"280.9771\" xlink:href=\"#m7bea288c6a\" y=\"17.083636\"/>\n     <use style=\"fill:#ff0000;stroke:#ff0000;\" x=\"304.357227\" xlink:href=\"#m7bea288c6a\" y=\"17.083636\"/>\n     <use style=\"fill:#ff0000;stroke:#ff0000;\" x=\"251.513074\" xlink:href=\"#m7bea288c6a\" y=\"166.264773\"/>\n     <use style=\"fill:#ff0000;stroke:#ff0000;\" x=\"259.72564\" xlink:href=\"#m7bea288c6a\" y=\"17.083636\"/>\n     <use style=\"fill:#ff0000;stroke:#ff0000;\" x=\"309.813153\" xlink:href=\"#m7bea288c6a\" y=\"17.083636\"/>\n     <use style=\"fill:#ff0000;stroke:#ff0000;\" x=\"345.157808\" xlink:href=\"#m7bea288c6a\" y=\"17.083636\"/>\n     <use style=\"fill:#ff0000;stroke:#ff0000;\" x=\"254.635735\" xlink:href=\"#m7bea288c6a\" y=\"166.264773\"/>\n     <use style=\"fill:#ff0000;stroke:#ff0000;\" x=\"289.956281\" xlink:href=\"#m7bea288c6a\" y=\"17.083636\"/>\n     <use style=\"fill:#ff0000;stroke:#ff0000;\" x=\"296.562334\" xlink:href=\"#m7bea288c6a\" y=\"17.083636\"/>\n     <use style=\"fill:#ff0000;stroke:#ff0000;\" x=\"299.915192\" xlink:href=\"#m7bea288c6a\" y=\"17.083636\"/>\n     <use style=\"fill:#ff0000;stroke:#ff0000;\" x=\"254.796469\" xlink:href=\"#m7bea288c6a\" y=\"166.264773\"/>\n     <use style=\"fill:#ff0000;stroke:#ff0000;\" x=\"226.758337\" xlink:href=\"#m7bea288c6a\" y=\"205.522967\"/>\n     <use style=\"fill:#ff0000;stroke:#ff0000;\" x=\"273.465372\" xlink:href=\"#m7bea288c6a\" y=\"17.083636\"/>\n     <use style=\"fill:#ff0000;stroke:#ff0000;\" x=\"312.960342\" xlink:href=\"#m7bea288c6a\" y=\"17.083636\"/>\n     <use style=\"fill:#ff0000;stroke:#ff0000;\" x=\"354.82697\" xlink:href=\"#m7bea288c6a\" y=\"17.083636\"/>\n     <use style=\"fill:#ff0000;stroke:#ff0000;\" x=\"329.182608\" xlink:href=\"#m7bea288c6a\" y=\"17.083636\"/>\n     <use style=\"fill:#ff0000;stroke:#ff0000;\" x=\"245.161847\" xlink:href=\"#m7bea288c6a\" y=\"196.101\"/>\n     <use style=\"fill:#ff0000;stroke:#ff0000;\" x=\"224.417127\" xlink:href=\"#m7bea288c6a\" y=\"200.691189\"/>\n     <use style=\"fill:#ff0000;stroke:#ff0000;\" x=\"321.287604\" xlink:href=\"#m7bea288c6a\" y=\"17.083636\"/>\n     <use style=\"fill:#ff0000;stroke:#ff0000;\" x=\"299.726714\" xlink:href=\"#m7bea288c6a\" y=\"17.083636\"/>\n     <use style=\"fill:#ff0000;stroke:#ff0000;\" x=\"243.936418\" xlink:href=\"#m7bea288c6a\" y=\"197.909256\"/>\n     <use style=\"fill:#ff0000;stroke:#ff0000;\" x=\"318.222937\" xlink:href=\"#m7bea288c6a\" y=\"17.083636\"/>\n     <use style=\"fill:#ff0000;stroke:#ff0000;\" x=\"339.705013\" xlink:href=\"#m7bea288c6a\" y=\"17.083636\"/>\n     <use style=\"fill:#ff0000;stroke:#ff0000;\" x=\"250.984541\" xlink:href=\"#m7bea288c6a\" y=\"149.689091\"/>\n     <use style=\"fill:#ff0000;stroke:#ff0000;\" x=\"294.922095\" xlink:href=\"#m7bea288c6a\" y=\"17.083636\"/>\n     <use style=\"fill:#ff0000;stroke:#ff0000;\" x=\"294.973306\" xlink:href=\"#m7bea288c6a\" y=\"17.083636\"/>\n     <use style=\"fill:#ff0000;stroke:#ff0000;\" x=\"250.807265\" xlink:href=\"#m7bea288c6a\" y=\"166.264773\"/>\n     <use style=\"fill:#ff0000;stroke:#ff0000;\" x=\"291.131369\" xlink:href=\"#m7bea288c6a\" y=\"17.083636\"/>\n     <use style=\"fill:#ff0000;stroke:#ff0000;\" x=\"207.235892\" xlink:href=\"#m7bea288c6a\" y=\"116.537727\"/>\n     <use style=\"fill:#ff0000;stroke:#ff0000;\" x=\"246.299197\" xlink:href=\"#m7bea288c6a\" y=\"191.128295\"/>\n     <use style=\"fill:#ff0000;stroke:#ff0000;\" x=\"273.099325\" xlink:href=\"#m7bea288c6a\" y=\"17.083636\"/>\n     <use style=\"fill:#ff0000;stroke:#ff0000;\" x=\"279.481449\" xlink:href=\"#m7bea288c6a\" y=\"17.083636\"/>\n     <use style=\"fill:#ff0000;stroke:#ff0000;\" x=\"308.781026\" xlink:href=\"#m7bea288c6a\" y=\"17.083636\"/>\n     <use style=\"fill:#ff0000;stroke:#ff0000;\" x=\"279.16475\" xlink:href=\"#m7bea288c6a\" y=\"17.083636\"/>\n     <use style=\"fill:#ff0000;stroke:#ff0000;\" x=\"313.142182\" xlink:href=\"#m7bea288c6a\" y=\"17.083636\"/>\n     <use style=\"fill:#ff0000;stroke:#ff0000;\" x=\"293.75137\" xlink:href=\"#m7bea288c6a\" y=\"17.083636\"/>\n     <use style=\"fill:#ff0000;stroke:#ff0000;\" x=\"286.898601\" xlink:href=\"#m7bea288c6a\" y=\"17.083636\"/>\n     <use style=\"fill:#ff0000;stroke:#ff0000;\" x=\"254.479509\" xlink:href=\"#m7bea288c6a\" y=\"166.264773\"/>\n     <use style=\"fill:#ff0000;stroke:#ff0000;\" x=\"330.122353\" xlink:href=\"#m7bea288c6a\" y=\"17.083636\"/>\n     <use style=\"fill:#ff0000;stroke:#ff0000;\" x=\"255.848335\" xlink:href=\"#m7bea288c6a\" y=\"176.210182\"/>\n     <use style=\"fill:#ff0000;stroke:#ff0000;\" x=\"307.991735\" xlink:href=\"#m7bea288c6a\" y=\"17.083636\"/>\n     <use style=\"fill:#ff0000;stroke:#ff0000;\" x=\"275.327552\" xlink:href=\"#m7bea288c6a\" y=\"17.083636\"/>\n     <use style=\"fill:#ff0000;stroke:#ff0000;\" x=\"235.430553\" xlink:href=\"#m7bea288c6a\" y=\"208.035491\"/>\n     <use style=\"fill:#ff0000;stroke:#ff0000;\" x=\"192.809286\" xlink:href=\"#m7bea288c6a\" y=\"17.083636\"/>\n     <use style=\"fill:#ff0000;stroke:#ff0000;\" x=\"193.74402\" xlink:href=\"#m7bea288c6a\" y=\"17.083636\"/>\n     <use style=\"fill:#ff0000;stroke:#ff0000;\" x=\"296.795345\" xlink:href=\"#m7bea288c6a\" y=\"17.083636\"/>\n     <use style=\"fill:#ff0000;stroke:#ff0000;\" x=\"293.807929\" xlink:href=\"#m7bea288c6a\" y=\"17.083636\"/>\n     <use style=\"fill:#ff0000;stroke:#ff0000;\" x=\"235.27072\" xlink:href=\"#m7bea288c6a\" y=\"207.343636\"/>\n     <use style=\"fill:#ff0000;stroke:#ff0000;\" x=\"268.430553\" xlink:href=\"#m7bea288c6a\" y=\"17.083636\"/>\n     <use style=\"fill:#ff0000;stroke:#ff0000;\" x=\"366.825568\" xlink:href=\"#m7bea288c6a\" y=\"17.083636\"/>\n     <use style=\"fill:#ff0000;stroke:#ff0000;\" x=\"343.685796\" xlink:href=\"#m7bea288c6a\" y=\"17.083636\"/>\n     <use style=\"fill:#ff0000;stroke:#ff0000;\" x=\"218.120573\" xlink:href=\"#m7bea288c6a\" y=\"193.890909\"/>\n     <use style=\"fill:#ff0000;stroke:#ff0000;\" x=\"226.694424\" xlink:href=\"#m7bea288c6a\" y=\"204.941364\"/>\n     <use style=\"fill:#ff0000;stroke:#ff0000;\" x=\"299.168025\" xlink:href=\"#m7bea288c6a\" y=\"17.083636\"/>\n     <use style=\"fill:#ff0000;stroke:#ff0000;\" x=\"348.33399\" xlink:href=\"#m7bea288c6a\" y=\"17.083636\"/>\n     <use style=\"fill:#ff0000;stroke:#ff0000;\" x=\"196.510179\" xlink:href=\"#m7bea288c6a\" y=\"17.083636\"/>\n     <use style=\"fill:#ff0000;stroke:#ff0000;\" x=\"236.98308\" xlink:href=\"#m7bea288c6a\" y=\"206.046409\"/>\n     <use style=\"fill:#ff0000;stroke:#ff0000;\" x=\"311.387843\" xlink:href=\"#m7bea288c6a\" y=\"17.083636\"/>\n     <use style=\"fill:#ff0000;stroke:#ff0000;\" x=\"259.136823\" xlink:href=\"#m7bea288c6a\" y=\"116.537727\"/>\n     <use style=\"fill:#ff0000;stroke:#ff0000;\" x=\"292.800552\" xlink:href=\"#m7bea288c6a\" y=\"17.083636\"/>\n     <use style=\"fill:#ff0000;stroke:#ff0000;\" x=\"314.815408\" xlink:href=\"#m7bea288c6a\" y=\"17.083636\"/>\n     <use style=\"fill:#ff0000;stroke:#ff0000;\" x=\"226.516471\" xlink:href=\"#m7bea288c6a\" y=\"204.941364\"/>\n     <use style=\"fill:#ff0000;stroke:#ff0000;\" x=\"227.007765\" xlink:href=\"#m7bea288c6a\" y=\"208.035491\"/>\n     <use style=\"fill:#ff0000;stroke:#ff0000;\" x=\"235.159071\" xlink:href=\"#m7bea288c6a\" y=\"207.343636\"/>\n     <use style=\"fill:#ff0000;stroke:#ff0000;\" x=\"239.58773\" xlink:href=\"#m7bea288c6a\" y=\"200.691189\"/>\n     <use style=\"fill:#ff0000;stroke:#ff0000;\" x=\"294.707367\" xlink:href=\"#m7bea288c6a\" y=\"17.083636\"/>\n     <use style=\"fill:#ff0000;stroke:#ff0000;\" x=\"313.069499\" xlink:href=\"#m7bea288c6a\" y=\"17.083636\"/>\n     <use style=\"fill:#ff0000;stroke:#ff0000;\" x=\"294.698997\" xlink:href=\"#m7bea288c6a\" y=\"17.083636\"/>\n     <use style=\"fill:#ff0000;stroke:#ff0000;\" x=\"288.620808\" xlink:href=\"#m7bea288c6a\" y=\"17.083636\"/>\n     <use style=\"fill:#ff0000;stroke:#ff0000;\" x=\"281.885361\" xlink:href=\"#m7bea288c6a\" y=\"17.083636\"/>\n     <use style=\"fill:#ff0000;stroke:#ff0000;\" x=\"331.546316\" xlink:href=\"#m7bea288c6a\" y=\"17.083636\"/>\n     <use style=\"fill:#ff0000;stroke:#ff0000;\" x=\"235.007495\" xlink:href=\"#m7bea288c6a\" y=\"207.343636\"/>\n     <use style=\"fill:#ff0000;stroke:#ff0000;\" x=\"314.867491\" xlink:href=\"#m7bea288c6a\" y=\"17.083636\"/>\n     <use style=\"fill:#ff0000;stroke:#ff0000;\" x=\"279.885515\" xlink:href=\"#m7bea288c6a\" y=\"17.083636\"/>\n     <use style=\"fill:#ff0000;stroke:#ff0000;\" x=\"276.616314\" xlink:href=\"#m7bea288c6a\" y=\"17.083636\"/>\n     <use style=\"fill:#ff0000;stroke:#ff0000;\" x=\"210.946053\" xlink:href=\"#m7bea288c6a\" y=\"116.537727\"/>\n     <use style=\"fill:#ff0000;stroke:#ff0000;\" x=\"258.657738\" xlink:href=\"#m7bea288c6a\" y=\"116.537727\"/>\n     <use style=\"fill:#ff0000;stroke:#ff0000;\" x=\"276.861697\" xlink:href=\"#m7bea288c6a\" y=\"17.083636\"/>\n     <use style=\"fill:#ff0000;stroke:#ff0000;\" x=\"303.729188\" xlink:href=\"#m7bea288c6a\" y=\"17.083636\"/>\n     <use style=\"fill:#ff0000;stroke:#ff0000;\" x=\"238.607967\" xlink:href=\"#m7bea288c6a\" y=\"200.691189\"/>\n     <use style=\"fill:#ff0000;stroke:#ff0000;\" x=\"260.311559\" xlink:href=\"#m7bea288c6a\" y=\"17.083636\"/>\n     <use style=\"fill:#ff0000;stroke:#ff0000;\" x=\"316.430374\" xlink:href=\"#m7bea288c6a\" y=\"17.083636\"/>\n     <use style=\"fill:#ff0000;stroke:#ff0000;\" x=\"264.525664\" xlink:href=\"#m7bea288c6a\" y=\"17.083636\"/>\n     <use style=\"fill:#ff0000;stroke:#ff0000;\" x=\"248.3367\" xlink:href=\"#m7bea288c6a\" y=\"176.210182\"/>\n     <use style=\"fill:#ff0000;stroke:#ff0000;\" x=\"310.936395\" xlink:href=\"#m7bea288c6a\" y=\"17.083636\"/>\n     <use style=\"fill:#ff0000;stroke:#ff0000;\" x=\"229.450837\" xlink:href=\"#m7bea288c6a\" y=\"213.705517\"/>\n     <use style=\"fill:#ff0000;stroke:#ff0000;\" x=\"250.274472\" xlink:href=\"#m7bea288c6a\" y=\"176.210182\"/>\n     <use style=\"fill:#ff0000;stroke:#ff0000;\" x=\"305.558451\" xlink:href=\"#m7bea288c6a\" y=\"17.083636\"/>\n     <use style=\"fill:#ff0000;stroke:#ff0000;\" x=\"272.512135\" xlink:href=\"#m7bea288c6a\" y=\"17.083636\"/>\n     <use style=\"fill:#ff0000;stroke:#ff0000;\" x=\"287.103875\" xlink:href=\"#m7bea288c6a\" y=\"17.083636\"/>\n     <use style=\"fill:#ff0000;stroke:#ff0000;\" x=\"222.027923\" xlink:href=\"#m7bea288c6a\" y=\"193.890909\"/>\n     <use style=\"fill:#ff0000;stroke:#ff0000;\" x=\"300.800669\" xlink:href=\"#m7bea288c6a\" y=\"17.083636\"/>\n     <use style=\"fill:#ff0000;stroke:#ff0000;\" x=\"272.150766\" xlink:href=\"#m7bea288c6a\" y=\"17.083636\"/>\n     <use style=\"fill:#ff0000;stroke:#ff0000;\" x=\"327.945591\" xlink:href=\"#m7bea288c6a\" y=\"17.083636\"/>\n     <use style=\"fill:#ff0000;stroke:#ff0000;\" x=\"267.987331\" xlink:href=\"#m7bea288c6a\" y=\"17.083636\"/>\n     <use style=\"fill:#ff0000;stroke:#ff0000;\" x=\"322.911121\" xlink:href=\"#m7bea288c6a\" y=\"17.083636\"/>\n    </g>\n   </g>\n   <g id=\"matplotlib.axis_1\">\n    <g id=\"xtick_1\">\n     <g id=\"line2d_1\">\n      <defs>\n       <path d=\"M 0 0 \nL 0 3.5 \n\" id=\"m0668eaa32b\" style=\"stroke:#000000;stroke-width:0.8;\"/>\n      </defs>\n      <g>\n       <use style=\"stroke:#000000;stroke-width:0.8;\" x=\"66.913213\" xlink:href=\"#m0668eaa32b\" y=\"224.64\"/>\n      </g>\n     </g>\n     <g id=\"text_1\">\n      <!-- −3 -->\n      <g transform=\"translate(59.542119 239.238437)scale(0.1 -0.1)\">\n       <defs>\n        <path d=\"M 10.59375 35.5 \nL 73.1875 35.5 \nL 73.1875 27.203125 \nL 10.59375 27.203125 \nz\n\" id=\"DejaVuSans-8722\"/>\n        <path d=\"M 40.578125 39.3125 \nQ 47.65625 37.796875 51.625 33 \nQ 55.609375 28.21875 55.609375 21.1875 \nQ 55.609375 10.40625 48.1875 4.484375 \nQ 40.765625 -1.421875 27.09375 -1.421875 \nQ 22.515625 -1.421875 17.65625 -0.515625 \nQ 12.796875 0.390625 7.625 2.203125 \nL 7.625 11.71875 \nQ 11.71875 9.328125 16.59375 8.109375 \nQ 21.484375 6.890625 26.8125 6.890625 \nQ 36.078125 6.890625 40.9375 10.546875 \nQ 45.796875 14.203125 45.796875 21.1875 \nQ 45.796875 27.640625 41.28125 31.265625 \nQ 36.765625 34.90625 28.71875 34.90625 \nL 20.21875 34.90625 \nL 20.21875 43.015625 \nL 29.109375 43.015625 \nQ 36.375 43.015625 40.234375 45.921875 \nQ 44.09375 48.828125 44.09375 54.296875 \nQ 44.09375 59.90625 40.109375 62.90625 \nQ 36.140625 65.921875 28.71875 65.921875 \nQ 24.65625 65.921875 20.015625 65.03125 \nQ 15.375 64.15625 9.8125 62.3125 \nL 9.8125 71.09375 \nQ 15.4375 72.65625 20.34375 73.4375 \nQ 25.25 74.21875 29.59375 74.21875 \nQ 40.828125 74.21875 47.359375 69.109375 \nQ 53.90625 64.015625 53.90625 55.328125 \nQ 53.90625 49.265625 50.4375 45.09375 \nQ 46.96875 40.921875 40.578125 39.3125 \nz\n\" id=\"DejaVuSans-51\"/>\n       </defs>\n       <use xlink:href=\"#DejaVuSans-8722\"/>\n       <use x=\"83.789062\" xlink:href=\"#DejaVuSans-51\"/>\n      </g>\n     </g>\n    </g>\n    <g id=\"xtick_2\">\n     <g id=\"line2d_2\">\n      <g>\n       <use style=\"stroke:#000000;stroke-width:0.8;\" x=\"107.693951\" xlink:href=\"#m0668eaa32b\" y=\"224.64\"/>\n      </g>\n     </g>\n     <g id=\"text_2\">\n      <!-- −2 -->\n      <g transform=\"translate(100.322857 239.238437)scale(0.1 -0.1)\">\n       <defs>\n        <path d=\"M 19.1875 8.296875 \nL 53.609375 8.296875 \nL 53.609375 0 \nL 7.328125 0 \nL 7.328125 8.296875 \nQ 12.9375 14.109375 22.625 23.890625 \nQ 32.328125 33.6875 34.8125 36.53125 \nQ 39.546875 41.84375 41.421875 45.53125 \nQ 43.3125 49.21875 43.3125 52.78125 \nQ 43.3125 58.59375 39.234375 62.25 \nQ 35.15625 65.921875 28.609375 65.921875 \nQ 23.96875 65.921875 18.8125 64.3125 \nQ 13.671875 62.703125 7.8125 59.421875 \nL 7.8125 69.390625 \nQ 13.765625 71.78125 18.9375 73 \nQ 24.125 74.21875 28.421875 74.21875 \nQ 39.75 74.21875 46.484375 68.546875 \nQ 53.21875 62.890625 53.21875 53.421875 \nQ 53.21875 48.921875 51.53125 44.890625 \nQ 49.859375 40.875 45.40625 35.40625 \nQ 44.1875 33.984375 37.640625 27.21875 \nQ 31.109375 20.453125 19.1875 8.296875 \nz\n\" id=\"DejaVuSans-50\"/>\n       </defs>\n       <use xlink:href=\"#DejaVuSans-8722\"/>\n       <use x=\"83.789062\" xlink:href=\"#DejaVuSans-50\"/>\n      </g>\n     </g>\n    </g>\n    <g id=\"xtick_3\">\n     <g id=\"line2d_3\">\n      <g>\n       <use style=\"stroke:#000000;stroke-width:0.8;\" x=\"148.474689\" xlink:href=\"#m0668eaa32b\" y=\"224.64\"/>\n      </g>\n     </g>\n     <g id=\"text_3\">\n      <!-- −1 -->\n      <g transform=\"translate(141.103595 239.238437)scale(0.1 -0.1)\">\n       <defs>\n        <path d=\"M 12.40625 8.296875 \nL 28.515625 8.296875 \nL 28.515625 63.921875 \nL 10.984375 60.40625 \nL 10.984375 69.390625 \nL 28.421875 72.90625 \nL 38.28125 72.90625 \nL 38.28125 8.296875 \nL 54.390625 8.296875 \nL 54.390625 0 \nL 12.40625 0 \nz\n\" id=\"DejaVuSans-49\"/>\n       </defs>\n       <use xlink:href=\"#DejaVuSans-8722\"/>\n       <use x=\"83.789062\" xlink:href=\"#DejaVuSans-49\"/>\n      </g>\n     </g>\n    </g>\n    <g id=\"xtick_4\">\n     <g id=\"line2d_4\">\n      <g>\n       <use style=\"stroke:#000000;stroke-width:0.8;\" x=\"189.255427\" xlink:href=\"#m0668eaa32b\" y=\"224.64\"/>\n      </g>\n     </g>\n     <g id=\"text_4\">\n      <!-- 0 -->\n      <g transform=\"translate(186.074177 239.238437)scale(0.1 -0.1)\">\n       <defs>\n        <path d=\"M 31.78125 66.40625 \nQ 24.171875 66.40625 20.328125 58.90625 \nQ 16.5 51.421875 16.5 36.375 \nQ 16.5 21.390625 20.328125 13.890625 \nQ 24.171875 6.390625 31.78125 6.390625 \nQ 39.453125 6.390625 43.28125 13.890625 \nQ 47.125 21.390625 47.125 36.375 \nQ 47.125 51.421875 43.28125 58.90625 \nQ 39.453125 66.40625 31.78125 66.40625 \nz\nM 31.78125 74.21875 \nQ 44.046875 74.21875 50.515625 64.515625 \nQ 56.984375 54.828125 56.984375 36.375 \nQ 56.984375 17.96875 50.515625 8.265625 \nQ 44.046875 -1.421875 31.78125 -1.421875 \nQ 19.53125 -1.421875 13.0625 8.265625 \nQ 6.59375 17.96875 6.59375 36.375 \nQ 6.59375 54.828125 13.0625 64.515625 \nQ 19.53125 74.21875 31.78125 74.21875 \nz\n\" id=\"DejaVuSans-48\"/>\n       </defs>\n       <use xlink:href=\"#DejaVuSans-48\"/>\n      </g>\n     </g>\n    </g>\n    <g id=\"xtick_5\">\n     <g id=\"line2d_5\">\n      <g>\n       <use style=\"stroke:#000000;stroke-width:0.8;\" x=\"230.036165\" xlink:href=\"#m0668eaa32b\" y=\"224.64\"/>\n      </g>\n     </g>\n     <g id=\"text_5\">\n      <!-- 1 -->\n      <g transform=\"translate(226.854915 239.238437)scale(0.1 -0.1)\">\n       <use xlink:href=\"#DejaVuSans-49\"/>\n      </g>\n     </g>\n    </g>\n    <g id=\"xtick_6\">\n     <g id=\"line2d_6\">\n      <g>\n       <use style=\"stroke:#000000;stroke-width:0.8;\" x=\"270.816904\" xlink:href=\"#m0668eaa32b\" y=\"224.64\"/>\n      </g>\n     </g>\n     <g id=\"text_6\">\n      <!-- 2 -->\n      <g transform=\"translate(267.635654 239.238437)scale(0.1 -0.1)\">\n       <use xlink:href=\"#DejaVuSans-50\"/>\n      </g>\n     </g>\n    </g>\n    <g id=\"xtick_7\">\n     <g id=\"line2d_7\">\n      <g>\n       <use style=\"stroke:#000000;stroke-width:0.8;\" x=\"311.597642\" xlink:href=\"#m0668eaa32b\" y=\"224.64\"/>\n      </g>\n     </g>\n     <g id=\"text_7\">\n      <!-- 3 -->\n      <g transform=\"translate(308.416392 239.238437)scale(0.1 -0.1)\">\n       <use xlink:href=\"#DejaVuSans-51\"/>\n      </g>\n     </g>\n    </g>\n    <g id=\"xtick_8\">\n     <g id=\"line2d_8\">\n      <g>\n       <use style=\"stroke:#000000;stroke-width:0.8;\" x=\"352.37838\" xlink:href=\"#m0668eaa32b\" y=\"224.64\"/>\n      </g>\n     </g>\n     <g id=\"text_8\">\n      <!-- 4 -->\n      <g transform=\"translate(349.19713 239.238437)scale(0.1 -0.1)\">\n       <defs>\n        <path d=\"M 37.796875 64.3125 \nL 12.890625 25.390625 \nL 37.796875 25.390625 \nz\nM 35.203125 72.90625 \nL 47.609375 72.90625 \nL 47.609375 25.390625 \nL 58.015625 25.390625 \nL 58.015625 17.1875 \nL 47.609375 17.1875 \nL 47.609375 0 \nL 37.796875 0 \nL 37.796875 17.1875 \nL 4.890625 17.1875 \nL 4.890625 26.703125 \nz\n\" id=\"DejaVuSans-52\"/>\n       </defs>\n       <use xlink:href=\"#DejaVuSans-52\"/>\n      </g>\n     </g>\n    </g>\n    <g id=\"text_9\">\n     <!-- x -->\n     <g transform=\"translate(211.684375 252.916562)scale(0.1 -0.1)\">\n      <defs>\n       <path d=\"M 54.890625 54.6875 \nL 35.109375 28.078125 \nL 55.90625 0 \nL 45.3125 0 \nL 29.390625 21.484375 \nL 13.484375 0 \nL 2.875 0 \nL 24.125 28.609375 \nL 4.6875 54.6875 \nL 15.28125 54.6875 \nL 29.78125 35.203125 \nL 44.28125 54.6875 \nz\n\" id=\"DejaVuSans-120\"/>\n      </defs>\n      <use xlink:href=\"#DejaVuSans-120\"/>\n     </g>\n    </g>\n   </g>\n   <g id=\"matplotlib.axis_2\">\n    <g id=\"ytick_1\">\n     <g id=\"line2d_9\">\n      <defs>\n       <path d=\"M 0 0 \nL -3.5 0 \n\" id=\"m36e598744d\" style=\"stroke:#000000;stroke-width:0.8;\"/>\n      </defs>\n      <g>\n       <use style=\"stroke:#000000;stroke-width:0.8;\" x=\"47.24375\" xlink:href=\"#m36e598744d\" y=\"215.991818\"/>\n      </g>\n     </g>\n     <g id=\"text_10\">\n      <!-- 0 -->\n      <g transform=\"translate(33.88125 219.791037)scale(0.1 -0.1)\">\n       <use xlink:href=\"#DejaVuSans-48\"/>\n      </g>\n     </g>\n    </g>\n    <g id=\"ytick_2\">\n     <g id=\"line2d_10\">\n      <g>\n       <use style=\"stroke:#000000;stroke-width:0.8;\" x=\"47.24375\" xlink:href=\"#m36e598744d\" y=\"191.251995\"/>\n      </g>\n     </g>\n     <g id=\"text_11\">\n      <!-- 25 -->\n      <g transform=\"translate(27.51875 195.051213)scale(0.1 -0.1)\">\n       <defs>\n        <path d=\"M 10.796875 72.90625 \nL 49.515625 72.90625 \nL 49.515625 64.59375 \nL 19.828125 64.59375 \nL 19.828125 46.734375 \nQ 21.96875 47.46875 24.109375 47.828125 \nQ 26.265625 48.1875 28.421875 48.1875 \nQ 40.625 48.1875 47.75 41.5 \nQ 54.890625 34.8125 54.890625 23.390625 \nQ 54.890625 11.625 47.5625 5.09375 \nQ 40.234375 -1.421875 26.90625 -1.421875 \nQ 22.3125 -1.421875 17.546875 -0.640625 \nQ 12.796875 0.140625 7.71875 1.703125 \nL 7.71875 11.625 \nQ 12.109375 9.234375 16.796875 8.0625 \nQ 21.484375 6.890625 26.703125 6.890625 \nQ 35.15625 6.890625 40.078125 11.328125 \nQ 45.015625 15.765625 45.015625 23.390625 \nQ 45.015625 31 40.078125 35.4375 \nQ 35.15625 39.890625 26.703125 39.890625 \nQ 22.75 39.890625 18.8125 39.015625 \nQ 14.890625 38.140625 10.796875 36.28125 \nz\n\" id=\"DejaVuSans-53\"/>\n       </defs>\n       <use xlink:href=\"#DejaVuSans-50\"/>\n       <use x=\"63.623047\" xlink:href=\"#DejaVuSans-53\"/>\n      </g>\n     </g>\n    </g>\n    <g id=\"ytick_3\">\n     <g id=\"line2d_11\">\n      <g>\n       <use style=\"stroke:#000000;stroke-width:0.8;\" x=\"47.24375\" xlink:href=\"#m36e598744d\" y=\"166.512171\"/>\n      </g>\n     </g>\n     <g id=\"text_12\">\n      <!-- 50 -->\n      <g transform=\"translate(27.51875 170.31139)scale(0.1 -0.1)\">\n       <use xlink:href=\"#DejaVuSans-53\"/>\n       <use x=\"63.623047\" xlink:href=\"#DejaVuSans-48\"/>\n      </g>\n     </g>\n    </g>\n    <g id=\"ytick_4\">\n     <g id=\"line2d_12\">\n      <g>\n       <use style=\"stroke:#000000;stroke-width:0.8;\" x=\"47.24375\" xlink:href=\"#m36e598744d\" y=\"141.772347\"/>\n      </g>\n     </g>\n     <g id=\"text_13\">\n      <!-- 75 -->\n      <g transform=\"translate(27.51875 145.571566)scale(0.1 -0.1)\">\n       <defs>\n        <path d=\"M 8.203125 72.90625 \nL 55.078125 72.90625 \nL 55.078125 68.703125 \nL 28.609375 0 \nL 18.3125 0 \nL 43.21875 64.59375 \nL 8.203125 64.59375 \nz\n\" id=\"DejaVuSans-55\"/>\n       </defs>\n       <use xlink:href=\"#DejaVuSans-55\"/>\n       <use x=\"63.623047\" xlink:href=\"#DejaVuSans-53\"/>\n      </g>\n     </g>\n    </g>\n    <g id=\"ytick_5\">\n     <g id=\"line2d_13\">\n      <g>\n       <use style=\"stroke:#000000;stroke-width:0.8;\" x=\"47.24375\" xlink:href=\"#m36e598744d\" y=\"117.032524\"/>\n      </g>\n     </g>\n     <g id=\"text_14\">\n      <!-- 100 -->\n      <g transform=\"translate(21.15625 120.831742)scale(0.1 -0.1)\">\n       <use xlink:href=\"#DejaVuSans-49\"/>\n       <use x=\"63.623047\" xlink:href=\"#DejaVuSans-48\"/>\n       <use x=\"127.246094\" xlink:href=\"#DejaVuSans-48\"/>\n      </g>\n     </g>\n    </g>\n    <g id=\"ytick_6\">\n     <g id=\"line2d_14\">\n      <g>\n       <use style=\"stroke:#000000;stroke-width:0.8;\" x=\"47.24375\" xlink:href=\"#m36e598744d\" y=\"92.2927\"/>\n      </g>\n     </g>\n     <g id=\"text_15\">\n      <!-- 125 -->\n      <g transform=\"translate(21.15625 96.091919)scale(0.1 -0.1)\">\n       <use xlink:href=\"#DejaVuSans-49\"/>\n       <use x=\"63.623047\" xlink:href=\"#DejaVuSans-50\"/>\n       <use x=\"127.246094\" xlink:href=\"#DejaVuSans-53\"/>\n      </g>\n     </g>\n    </g>\n    <g id=\"ytick_7\">\n     <g id=\"line2d_15\">\n      <g>\n       <use style=\"stroke:#000000;stroke-width:0.8;\" x=\"47.24375\" xlink:href=\"#m36e598744d\" y=\"67.552877\"/>\n      </g>\n     </g>\n     <g id=\"text_16\">\n      <!-- 150 -->\n      <g transform=\"translate(21.15625 71.352095)scale(0.1 -0.1)\">\n       <use xlink:href=\"#DejaVuSans-49\"/>\n       <use x=\"63.623047\" xlink:href=\"#DejaVuSans-53\"/>\n       <use x=\"127.246094\" xlink:href=\"#DejaVuSans-48\"/>\n      </g>\n     </g>\n    </g>\n    <g id=\"ytick_8\">\n     <g id=\"line2d_16\">\n      <g>\n       <use style=\"stroke:#000000;stroke-width:0.8;\" x=\"47.24375\" xlink:href=\"#m36e598744d\" y=\"42.813053\"/>\n      </g>\n     </g>\n     <g id=\"text_17\">\n      <!-- 175 -->\n      <g transform=\"translate(21.15625 46.612272)scale(0.1 -0.1)\">\n       <use xlink:href=\"#DejaVuSans-49\"/>\n       <use x=\"63.623047\" xlink:href=\"#DejaVuSans-55\"/>\n       <use x=\"127.246094\" xlink:href=\"#DejaVuSans-53\"/>\n      </g>\n     </g>\n    </g>\n    <g id=\"ytick_9\">\n     <g id=\"line2d_17\">\n      <g>\n       <use style=\"stroke:#000000;stroke-width:0.8;\" x=\"47.24375\" xlink:href=\"#m36e598744d\" y=\"18.073229\"/>\n      </g>\n     </g>\n     <g id=\"text_18\">\n      <!-- 200 -->\n      <g transform=\"translate(21.15625 21.872448)scale(0.1 -0.1)\">\n       <use xlink:href=\"#DejaVuSans-50\"/>\n       <use x=\"63.623047\" xlink:href=\"#DejaVuSans-48\"/>\n       <use x=\"127.246094\" xlink:href=\"#DejaVuSans-48\"/>\n      </g>\n     </g>\n    </g>\n    <g id=\"text_19\">\n     <!-- imp_score -->\n     <g transform=\"translate(14.798438 141.286406)rotate(-90)scale(0.1 -0.1)\">\n      <defs>\n       <path d=\"M 9.421875 54.6875 \nL 18.40625 54.6875 \nL 18.40625 0 \nL 9.421875 0 \nz\nM 9.421875 75.984375 \nL 18.40625 75.984375 \nL 18.40625 64.59375 \nL 9.421875 64.59375 \nz\n\" id=\"DejaVuSans-105\"/>\n       <path d=\"M 52 44.1875 \nQ 55.375 50.25 60.0625 53.125 \nQ 64.75 56 71.09375 56 \nQ 79.640625 56 84.28125 50.015625 \nQ 88.921875 44.046875 88.921875 33.015625 \nL 88.921875 0 \nL 79.890625 0 \nL 79.890625 32.71875 \nQ 79.890625 40.578125 77.09375 44.375 \nQ 74.3125 48.1875 68.609375 48.1875 \nQ 61.625 48.1875 57.5625 43.546875 \nQ 53.515625 38.921875 53.515625 30.90625 \nL 53.515625 0 \nL 44.484375 0 \nL 44.484375 32.71875 \nQ 44.484375 40.625 41.703125 44.40625 \nQ 38.921875 48.1875 33.109375 48.1875 \nQ 26.21875 48.1875 22.15625 43.53125 \nQ 18.109375 38.875 18.109375 30.90625 \nL 18.109375 0 \nL 9.078125 0 \nL 9.078125 54.6875 \nL 18.109375 54.6875 \nL 18.109375 46.1875 \nQ 21.1875 51.21875 25.484375 53.609375 \nQ 29.78125 56 35.6875 56 \nQ 41.65625 56 45.828125 52.96875 \nQ 50 49.953125 52 44.1875 \nz\n\" id=\"DejaVuSans-109\"/>\n       <path d=\"M 18.109375 8.203125 \nL 18.109375 -20.796875 \nL 9.078125 -20.796875 \nL 9.078125 54.6875 \nL 18.109375 54.6875 \nL 18.109375 46.390625 \nQ 20.953125 51.265625 25.265625 53.625 \nQ 29.59375 56 35.59375 56 \nQ 45.5625 56 51.78125 48.09375 \nQ 58.015625 40.1875 58.015625 27.296875 \nQ 58.015625 14.40625 51.78125 6.484375 \nQ 45.5625 -1.421875 35.59375 -1.421875 \nQ 29.59375 -1.421875 25.265625 0.953125 \nQ 20.953125 3.328125 18.109375 8.203125 \nz\nM 48.6875 27.296875 \nQ 48.6875 37.203125 44.609375 42.84375 \nQ 40.53125 48.484375 33.40625 48.484375 \nQ 26.265625 48.484375 22.1875 42.84375 \nQ 18.109375 37.203125 18.109375 27.296875 \nQ 18.109375 17.390625 22.1875 11.75 \nQ 26.265625 6.109375 33.40625 6.109375 \nQ 40.53125 6.109375 44.609375 11.75 \nQ 48.6875 17.390625 48.6875 27.296875 \nz\n\" id=\"DejaVuSans-112\"/>\n       <path d=\"M 50.984375 -16.609375 \nL 50.984375 -23.578125 \nL -0.984375 -23.578125 \nL -0.984375 -16.609375 \nz\n\" id=\"DejaVuSans-95\"/>\n       <path d=\"M 44.28125 53.078125 \nL 44.28125 44.578125 \nQ 40.484375 46.53125 36.375 47.5 \nQ 32.28125 48.484375 27.875 48.484375 \nQ 21.1875 48.484375 17.84375 46.4375 \nQ 14.5 44.390625 14.5 40.28125 \nQ 14.5 37.15625 16.890625 35.375 \nQ 19.28125 33.59375 26.515625 31.984375 \nL 29.59375 31.296875 \nQ 39.15625 29.25 43.1875 25.515625 \nQ 47.21875 21.78125 47.21875 15.09375 \nQ 47.21875 7.46875 41.1875 3.015625 \nQ 35.15625 -1.421875 24.609375 -1.421875 \nQ 20.21875 -1.421875 15.453125 -0.5625 \nQ 10.6875 0.296875 5.421875 2 \nL 5.421875 11.28125 \nQ 10.40625 8.6875 15.234375 7.390625 \nQ 20.0625 6.109375 24.8125 6.109375 \nQ 31.15625 6.109375 34.5625 8.28125 \nQ 37.984375 10.453125 37.984375 14.40625 \nQ 37.984375 18.0625 35.515625 20.015625 \nQ 33.0625 21.96875 24.703125 23.78125 \nL 21.578125 24.515625 \nQ 13.234375 26.265625 9.515625 29.90625 \nQ 5.8125 33.546875 5.8125 39.890625 \nQ 5.8125 47.609375 11.28125 51.796875 \nQ 16.75 56 26.8125 56 \nQ 31.78125 56 36.171875 55.265625 \nQ 40.578125 54.546875 44.28125 53.078125 \nz\n\" id=\"DejaVuSans-115\"/>\n       <path d=\"M 48.78125 52.59375 \nL 48.78125 44.1875 \nQ 44.96875 46.296875 41.140625 47.34375 \nQ 37.3125 48.390625 33.40625 48.390625 \nQ 24.65625 48.390625 19.8125 42.84375 \nQ 14.984375 37.3125 14.984375 27.296875 \nQ 14.984375 17.28125 19.8125 11.734375 \nQ 24.65625 6.203125 33.40625 6.203125 \nQ 37.3125 6.203125 41.140625 7.25 \nQ 44.96875 8.296875 48.78125 10.40625 \nL 48.78125 2.09375 \nQ 45.015625 0.34375 40.984375 -0.53125 \nQ 36.96875 -1.421875 32.421875 -1.421875 \nQ 20.0625 -1.421875 12.78125 6.34375 \nQ 5.515625 14.109375 5.515625 27.296875 \nQ 5.515625 40.671875 12.859375 48.328125 \nQ 20.21875 56 33.015625 56 \nQ 37.15625 56 41.109375 55.140625 \nQ 45.0625 54.296875 48.78125 52.59375 \nz\n\" id=\"DejaVuSans-99\"/>\n       <path d=\"M 30.609375 48.390625 \nQ 23.390625 48.390625 19.1875 42.75 \nQ 14.984375 37.109375 14.984375 27.296875 \nQ 14.984375 17.484375 19.15625 11.84375 \nQ 23.34375 6.203125 30.609375 6.203125 \nQ 37.796875 6.203125 41.984375 11.859375 \nQ 46.1875 17.53125 46.1875 27.296875 \nQ 46.1875 37.015625 41.984375 42.703125 \nQ 37.796875 48.390625 30.609375 48.390625 \nz\nM 30.609375 56 \nQ 42.328125 56 49.015625 48.375 \nQ 55.71875 40.765625 55.71875 27.296875 \nQ 55.71875 13.875 49.015625 6.21875 \nQ 42.328125 -1.421875 30.609375 -1.421875 \nQ 18.84375 -1.421875 12.171875 6.21875 \nQ 5.515625 13.875 5.515625 27.296875 \nQ 5.515625 40.765625 12.171875 48.375 \nQ 18.84375 56 30.609375 56 \nz\n\" id=\"DejaVuSans-111\"/>\n       <path d=\"M 41.109375 46.296875 \nQ 39.59375 47.171875 37.8125 47.578125 \nQ 36.03125 48 33.890625 48 \nQ 26.265625 48 22.1875 43.046875 \nQ 18.109375 38.09375 18.109375 28.8125 \nL 18.109375 0 \nL 9.078125 0 \nL 9.078125 54.6875 \nL 18.109375 54.6875 \nL 18.109375 46.1875 \nQ 20.953125 51.171875 25.484375 53.578125 \nQ 30.03125 56 36.53125 56 \nQ 37.453125 56 38.578125 55.875 \nQ 39.703125 55.765625 41.0625 55.515625 \nz\n\" id=\"DejaVuSans-114\"/>\n       <path d=\"M 56.203125 29.59375 \nL 56.203125 25.203125 \nL 14.890625 25.203125 \nQ 15.484375 15.921875 20.484375 11.0625 \nQ 25.484375 6.203125 34.421875 6.203125 \nQ 39.59375 6.203125 44.453125 7.46875 \nQ 49.3125 8.734375 54.109375 11.28125 \nL 54.109375 2.78125 \nQ 49.265625 0.734375 44.1875 -0.34375 \nQ 39.109375 -1.421875 33.890625 -1.421875 \nQ 20.796875 -1.421875 13.15625 6.1875 \nQ 5.515625 13.8125 5.515625 26.8125 \nQ 5.515625 40.234375 12.765625 48.109375 \nQ 20.015625 56 32.328125 56 \nQ 43.359375 56 49.78125 48.890625 \nQ 56.203125 41.796875 56.203125 29.59375 \nz\nM 47.21875 32.234375 \nQ 47.125 39.59375 43.09375 43.984375 \nQ 39.0625 48.390625 32.421875 48.390625 \nQ 24.90625 48.390625 20.390625 44.140625 \nQ 15.875 39.890625 15.1875 32.171875 \nz\n\" id=\"DejaVuSans-101\"/>\n      </defs>\n      <use xlink:href=\"#DejaVuSans-105\"/>\n      <use x=\"27.783203\" xlink:href=\"#DejaVuSans-109\"/>\n      <use x=\"125.195312\" xlink:href=\"#DejaVuSans-112\"/>\n      <use x=\"188.671875\" xlink:href=\"#DejaVuSans-95\"/>\n      <use x=\"238.671875\" xlink:href=\"#DejaVuSans-115\"/>\n      <use x=\"290.771484\" xlink:href=\"#DejaVuSans-99\"/>\n      <use x=\"345.751953\" xlink:href=\"#DejaVuSans-111\"/>\n      <use x=\"406.933594\" xlink:href=\"#DejaVuSans-114\"/>\n      <use x=\"445.796875\" xlink:href=\"#DejaVuSans-101\"/>\n     </g>\n    </g>\n   </g>\n   <g id=\"patch_3\">\n    <path d=\"M 47.24375 224.64 \nL 47.24375 7.2 \n\" style=\"fill:none;stroke:#000000;stroke-linecap:square;stroke-linejoin:miter;stroke-width:0.8;\"/>\n   </g>\n   <g id=\"patch_4\">\n    <path d=\"M 382.04375 224.64 \nL 382.04375 7.2 \n\" style=\"fill:none;stroke:#000000;stroke-linecap:square;stroke-linejoin:miter;stroke-width:0.8;\"/>\n   </g>\n   <g id=\"patch_5\">\n    <path d=\"M 47.24375 224.64 \nL 382.04375 224.64 \n\" style=\"fill:none;stroke:#000000;stroke-linecap:square;stroke-linejoin:miter;stroke-width:0.8;\"/>\n   </g>\n   <g id=\"patch_6\">\n    <path d=\"M 47.24375 7.2 \nL 382.04375 7.2 \n\" style=\"fill:none;stroke:#000000;stroke-linecap:square;stroke-linejoin:miter;stroke-width:0.8;\"/>\n   </g>\n  </g>\n </g>\n <defs>\n  <clipPath id=\"pc139b4ca38\">\n   <rect height=\"217.44\" width=\"334.8\" x=\"47.24375\" y=\"7.2\"/>\n  </clipPath>\n </defs>\n</svg>\n",
      "image/png": "[encoded data removed]"
     },
     "metadata": {
      "needs_background": "light"
     }
    }
   ],
   "metadata": {}
  },
  {
   "cell_type": "code",
   "execution_count": 21,
   "source": [
    "(np.array([1, 2, 3, 4, 5, 6]) < 4).astype(int)*2 - 1"
   ],
   "outputs": [
    {
     "output_type": "execute_result",
     "data": {
      "text/plain": [
       "array([ 1,  1,  1, -1, -1, -1])"
      ]
     },
     "metadata": {},
     "execution_count": 21
    }
   ],
   "metadata": {}
  },
  {
   "cell_type": "code",
   "execution_count": 3,
   "source": [
    "real = a.draw(250).extract_overlap(1)\n",
    "fake = b.draw(250).extract_overlap(1)"
   ],
   "outputs": [],
   "metadata": {}
  },
  {
   "cell_type": "code",
   "execution_count": 4,
   "source": [
    "ttd = gof.TrainTestData(real, fake, 200, 200)"
   ],
   "outputs": [],
   "metadata": {}
  },
  {
   "cell_type": "code",
   "execution_count": 5,
   "source": [
    "knn = gof.KnnRegressor(variables=['x'])"
   ],
   "outputs": [],
   "metadata": {}
  },
  {
   "cell_type": "code",
   "execution_count": 6,
   "source": [
    "ns = gof.NormalSimulation(0, 1, 2, 1, 100, 100, 100, 100, L = 1)"
   ],
   "outputs": [],
   "metadata": {}
  },
  {
   "cell_type": "code",
   "execution_count": 9,
   "source": [
    "bah = ns.test(knn)"
   ],
   "outputs": [],
   "metadata": {}
  },
  {
   "cell_type": "code",
   "execution_count": 11,
   "source": [
    "bah.training"
   ],
   "outputs": [
    {
     "output_type": "execute_result",
     "data": {
      "text/plain": [
       "            x  Y\n",
       "0    0.339149  1\n",
       "1    2.441539  1\n",
       "2    1.921366  1\n",
       "3    2.654115  1\n",
       "4    2.220975  1\n",
       "..        ... ..\n",
       "195  2.881300  0\n",
       "196  0.751020  0\n",
       "197  2.717564  0\n",
       "198  1.686104  0\n",
       "199  0.747033  0\n",
       "\n",
       "[200 rows x 2 columns]"
      ],
      "text/html": [
       "<div>\n",
       "<style scoped>\n",
       "    .dataframe tbody tr th:only-of-type {\n",
       "        vertical-align: middle;\n",
       "    }\n",
       "\n",
       "    .dataframe tbody tr th {\n",
       "        vertical-align: top;\n",
       "    }\n",
       "\n",
       "    .dataframe thead th {\n",
       "        text-align: right;\n",
       "    }\n",
       "</style>\n",
       "<table border=\"1\" class=\"dataframe\">\n",
       "  <thead>\n",
       "    <tr style=\"text-align: right;\">\n",
       "      <th></th>\n",
       "      <th>x</th>\n",
       "      <th>Y</th>\n",
       "    </tr>\n",
       "  </thead>\n",
       "  <tbody>\n",
       "    <tr>\n",
       "      <th>0</th>\n",
       "      <td>0.339149</td>\n",
       "      <td>1</td>\n",
       "    </tr>\n",
       "    <tr>\n",
       "      <th>1</th>\n",
       "      <td>2.441539</td>\n",
       "      <td>1</td>\n",
       "    </tr>\n",
       "    <tr>\n",
       "      <th>2</th>\n",
       "      <td>1.921366</td>\n",
       "      <td>1</td>\n",
       "    </tr>\n",
       "    <tr>\n",
       "      <th>3</th>\n",
       "      <td>2.654115</td>\n",
       "      <td>1</td>\n",
       "    </tr>\n",
       "    <tr>\n",
       "      <th>4</th>\n",
       "      <td>2.220975</td>\n",
       "      <td>1</td>\n",
       "    </tr>\n",
       "    <tr>\n",
       "      <th>...</th>\n",
       "      <td>...</td>\n",
       "      <td>...</td>\n",
       "    </tr>\n",
       "    <tr>\n",
       "      <th>195</th>\n",
       "      <td>2.881300</td>\n",
       "      <td>0</td>\n",
       "    </tr>\n",
       "    <tr>\n",
       "      <th>196</th>\n",
       "      <td>0.751020</td>\n",
       "      <td>0</td>\n",
       "    </tr>\n",
       "    <tr>\n",
       "      <th>197</th>\n",
       "      <td>2.717564</td>\n",
       "      <td>0</td>\n",
       "    </tr>\n",
       "    <tr>\n",
       "      <th>198</th>\n",
       "      <td>1.686104</td>\n",
       "      <td>0</td>\n",
       "    </tr>\n",
       "    <tr>\n",
       "      <th>199</th>\n",
       "      <td>0.747033</td>\n",
       "      <td>0</td>\n",
       "    </tr>\n",
       "  </tbody>\n",
       "</table>\n",
       "<p>200 rows × 2 columns</p>\n",
       "</div>"
      ]
     },
     "metadata": {},
     "execution_count": 11
    }
   ],
   "metadata": {}
  },
  {
   "cell_type": "code",
   "execution_count": 13,
   "source": [
    "import numpy as np\n",
    "n = 70\n",
    "[2**ii+1 for ii in range(3, int(np.log2(n)+1))]"
   ],
   "outputs": [
    {
     "output_type": "execute_result",
     "data": {
      "text/plain": [
       "[9, 17, 33, 65]"
      ]
     },
     "metadata": {},
     "execution_count": 13
    }
   ],
   "metadata": {}
  },
  {
   "cell_type": "code",
   "execution_count": null,
   "source": [],
   "outputs": [],
   "metadata": {}
  }
 ],
 "metadata": {
  "orig_nbformat": 4,
  "language_info": {
   "name": "python",
   "version": "3.7.10",
   "mimetype": "text/x-python",
   "codemirror_mode": {
    "name": "ipython",
    "version": 3
   },
   "pygments_lexer": "ipython3",
   "nbconvert_exporter": "python",
   "file_extension": ".py"
  },
  "kernelspec": {
   "name": "python3",
   "display_name": "Python 3.7.10 64-bit ('seq-goodness-of-fit': conda)"
  },
  "interpreter": {
   "hash": "3782e90bf384435fb3f94025c942b11b0d9e63390fc88b99511c8fa450e5ec1a"
  }
 },
 "nbformat": 4,
 "nbformat_minor": 2
}