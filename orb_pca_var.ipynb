{
 "cells": [
  {
   "cell_type": "code",
   "execution_count": 96,
   "metadata": {},
   "outputs": [],
   "source": [
    "import numpy as np\n",
    "import pandas as pd\n",
    "import os\n",
    "import matplotlib.pyplot as plt\n",
    "import itertools\n",
    "from sklearn.decomposition import PCA\n",
    "import gc"
   ]
  },
  {
   "cell_type": "code",
   "execution_count": 2,
   "metadata": {},
   "outputs": [],
   "source": [
    "RAD_DIRECTORY = 'data/ORB/'\n",
    "SIZE_DIRECTORY = 'data/ORB/'\n",
    "MIN_YEAR = 2004\n",
    "MAX_YEAR = 2020\n",
    "MIN_TEST_YEAR = 2020"
   ]
  },
  {
   "cell_type": "code",
   "execution_count": 3,
   "metadata": {},
   "outputs": [],
   "source": [
    "def list_orb_files(file_dir, basin, orb_suffix, min_year, max_year):\n",
    "    years = [str(i) for i in range(min_year, max_year + 1)]\n",
    "    files = os.listdir(file_dir)\n",
    "    rad_files = []\n",
    "    for f in files:\n",
    "        if f[4:8] in years:\n",
    "            if f.startswith(basin):\n",
    "                if (f[-len(orb_suffix):] == orb_suffix):\n",
    "                    rad_files.append(f)\n",
    "        \n",
    "    return rad_files"
   ]
  },
  {
   "cell_type": "code",
   "execution_count": 4,
   "metadata": {},
   "outputs": [],
   "source": [
    "rad_files = list_orb_files(RAD_DIRECTORY, 'AL', '-rad.csv', min_year=MIN_YEAR, max_year=MAX_YEAR)"
   ]
  },
  {
   "cell_type": "code",
   "execution_count": 77,
   "metadata": {},
   "outputs": [],
   "source": [
    "# Radius: ~ 6s runtime\n",
    "dfs = []\n",
    "rad_cols = [str(i) for i in range(5, 600 + 5, 5)]\n",
    "for f in rad_files:\n",
    "    path = RAD_DIRECTORY + f\n",
    "    storm_id = f.split('-')[0]\n",
    "    df = pd.read_csv(path)\n",
    "    df['time'] = pd.to_datetime(df['time']).dt.round('min')\n",
    "    cols = ['time']\n",
    "    cols.extend(rad_cols)\n",
    "    df.columns = cols\n",
    "    df['ID'] = storm_id\n",
    "    dfs.append(df)\n",
    "df_rad = pd.concat(dfs)\n",
    "df_rad.sort_values(by = ['ID', 'time'], inplace=True, ignore_index=True)"
   ]
  },
  {
   "cell_type": "code",
   "execution_count": 83,
   "metadata": {},
   "outputs": [
    {
     "data": {
      "text/plain": [
       "3582"
      ]
     },
     "execution_count": 83,
     "metadata": {},
     "output_type": "execute_result"
    }
   ],
   "source": [
    "del dfs\n",
    "gc.collect()"
   ]
  },
  {
   "cell_type": "code",
   "execution_count": 78,
   "metadata": {},
   "outputs": [],
   "source": [
    "# Get rid of rows with nans\n",
    "df_rad_clean = df_rad.loc[df_rad.isnull().sum(axis = 1) == 0].copy()"
   ]
  },
  {
   "cell_type": "code",
   "execution_count": 79,
   "metadata": {},
   "outputs": [],
   "source": [
    "pca_rad = PCA(n_components=3)\n",
    "X_rad = df_rad_clean.loc[df_rad_clean.time.dt.year < MIN_TEST_YEAR, rad_cols]\n",
    "X_rad_centered = X_rad - X_rad.mean(axis = 0)\n",
    "pca_rad.fit(X_rad_centered)\n",
    "pca_rad_applied = pca_rad.transform(df_rad_clean.loc[:, rad_cols] - X_rad.mean(axis = 0))\n",
    "df_rad_clean[['rad_pc_1', 'rad_pc_2', 'rad_pc_3']] = pca_rad_applied"
   ]
  },
  {
   "cell_type": "code",
   "execution_count": 80,
   "metadata": {},
   "outputs": [
    {
     "data": {
      "image/png": "[encoded data removed]",
      "text/plain": [
       "<Figure size 720x360 with 1 Axes>"
      ]
     },
     "metadata": {
      "needs_background": "light"
     },
     "output_type": "display_data"
    }
   ],
   "source": [
    "x_rad = np.array(rad_cols, dtype = 'int')\n",
    "plt.figure(figsize = (10, 5))\n",
    "for i in range(3):  \n",
    "    plt.plot(x_rad, pca_rad.components_[i,:], label = f'EOF {i + 1}')\n",
    "\n",
    "plt.legend()\n",
    "plt.show()"
   ]
  },
  {
   "cell_type": "code",
   "execution_count": 81,
   "metadata": {},
   "outputs": [],
   "source": [
    "df_rad.loc[df_rad.isnull().sum(axis = 1) == 0, ['rad_pc_1', 'rad_pc_2', 'rad_pc_3']] = pca_rad_applied"
   ]
  },
  {
   "cell_type": "code",
   "execution_count": 179,
   "metadata": {},
   "outputs": [],
   "source": [
    "data = df_rad.drop(columns = rad_cols)"
   ]
  },
  {
   "cell_type": "code",
   "execution_count": 180,
   "metadata": {},
   "outputs": [
    {
     "data": {
      "text/html": [
       "<div>\n",
       "<style scoped>\n",
       "    .dataframe tbody tr th:only-of-type {\n",
       "        vertical-align: middle;\n",
       "    }\n",
       "\n",
       "    .dataframe tbody tr th {\n",
       "        vertical-align: top;\n",
       "    }\n",
       "\n",
       "    .dataframe thead th {\n",
       "        text-align: right;\n",
       "    }\n",
       "</style>\n",
       "<table border=\"1\" class=\"dataframe\">\n",
       "  <thead>\n",
       "    <tr style=\"text-align: right;\">\n",
       "      <th></th>\n",
       "      <th>time</th>\n",
       "      <th>ID</th>\n",
       "      <th>rad_pc_1</th>\n",
       "      <th>rad_pc_2</th>\n",
       "      <th>rad_pc_3</th>\n",
       "    </tr>\n",
       "  </thead>\n",
       "  <tbody>\n",
       "    <tr>\n",
       "      <th>0</th>\n",
       "      <td>2004-07-31 18:00:00</td>\n",
       "      <td>AL012004</td>\n",
       "      <td>-84.852469</td>\n",
       "      <td>-13.727752</td>\n",
       "      <td>-6.989022</td>\n",
       "    </tr>\n",
       "    <tr>\n",
       "      <th>1</th>\n",
       "      <td>2004-07-31 18:30:00</td>\n",
       "      <td>AL012004</td>\n",
       "      <td>-75.468454</td>\n",
       "      <td>-13.450455</td>\n",
       "      <td>-3.159751</td>\n",
       "    </tr>\n",
       "    <tr>\n",
       "      <th>2</th>\n",
       "      <td>2004-07-31 19:00:00</td>\n",
       "      <td>AL012004</td>\n",
       "      <td>-72.912953</td>\n",
       "      <td>-10.025802</td>\n",
       "      <td>-3.654504</td>\n",
       "    </tr>\n",
       "    <tr>\n",
       "      <th>3</th>\n",
       "      <td>2004-07-31 19:30:00</td>\n",
       "      <td>AL012004</td>\n",
       "      <td>-68.151672</td>\n",
       "      <td>-4.937895</td>\n",
       "      <td>2.328174</td>\n",
       "    </tr>\n",
       "    <tr>\n",
       "      <th>4</th>\n",
       "      <td>2004-07-31 20:00:00</td>\n",
       "      <td>AL012004</td>\n",
       "      <td>-66.796416</td>\n",
       "      <td>-4.465255</td>\n",
       "      <td>11.307172</td>\n",
       "    </tr>\n",
       "  </tbody>\n",
       "</table>\n",
       "</div>"
      ],
      "text/plain": [
       "                 time        ID   rad_pc_1   rad_pc_2   rad_pc_3\n",
       "0 2004-07-31 18:00:00  AL012004 -84.852469 -13.727752  -6.989022\n",
       "1 2004-07-31 18:30:00  AL012004 -75.468454 -13.450455  -3.159751\n",
       "2 2004-07-31 19:00:00  AL012004 -72.912953 -10.025802  -3.654504\n",
       "3 2004-07-31 19:30:00  AL012004 -68.151672  -4.937895   2.328174\n",
       "4 2004-07-31 20:00:00  AL012004 -66.796416  -4.465255  11.307172"
      ]
     },
     "execution_count": 180,
     "metadata": {},
     "output_type": "execute_result"
    }
   ],
   "source": [
    "data.head()"
   ]
  },
  {
   "cell_type": "markdown",
   "metadata": {},
   "source": [
    "Get differenced PC components for fitting VAR model"
   ]
  },
  {
   "cell_type": "code",
   "execution_count": 181,
   "metadata": {},
   "outputs": [],
   "source": [
    "ids = pd.unique(data['ID'])\n",
    "target_cols = ['rad_pc_'+ x for x in ['1', '2', '3']]\n",
    "result_cols = ['delta_pc_'+ x for x in ['1', '2', '3']]"
   ]
  },
  {
   "cell_type": "code",
   "execution_count": 182,
   "metadata": {},
   "outputs": [],
   "source": [
    "for id in ids:\n",
    "    data.loc[data['ID'] == id, result_cols] = data.loc[data['ID'] == id, target_cols].diff().to_numpy()"
   ]
  },
  {
   "cell_type": "code",
   "execution_count": 183,
   "metadata": {},
   "outputs": [
    {
     "data": {
      "text/html": [
       "<div>\n",
       "<style scoped>\n",
       "    .dataframe tbody tr th:only-of-type {\n",
       "        vertical-align: middle;\n",
       "    }\n",
       "\n",
       "    .dataframe tbody tr th {\n",
       "        vertical-align: top;\n",
       "    }\n",
       "\n",
       "    .dataframe thead th {\n",
       "        text-align: right;\n",
       "    }\n",
       "</style>\n",
       "<table border=\"1\" class=\"dataframe\">\n",
       "  <thead>\n",
       "    <tr style=\"text-align: right;\">\n",
       "      <th></th>\n",
       "      <th>time</th>\n",
       "      <th>ID</th>\n",
       "      <th>rad_pc_1</th>\n",
       "      <th>rad_pc_2</th>\n",
       "      <th>rad_pc_3</th>\n",
       "      <th>delta_pc_1</th>\n",
       "      <th>delta_pc_2</th>\n",
       "      <th>delta_pc_3</th>\n",
       "    </tr>\n",
       "  </thead>\n",
       "  <tbody>\n",
       "    <tr>\n",
       "      <th>0</th>\n",
       "      <td>2004-07-31 18:00:00</td>\n",
       "      <td>AL012004</td>\n",
       "      <td>-84.852469</td>\n",
       "      <td>-13.727752</td>\n",
       "      <td>-6.989022</td>\n",
       "      <td>NaN</td>\n",
       "      <td>NaN</td>\n",
       "      <td>NaN</td>\n",
       "    </tr>\n",
       "    <tr>\n",
       "      <th>1</th>\n",
       "      <td>2004-07-31 18:30:00</td>\n",
       "      <td>AL012004</td>\n",
       "      <td>-75.468454</td>\n",
       "      <td>-13.450455</td>\n",
       "      <td>-3.159751</td>\n",
       "      <td>9.384015</td>\n",
       "      <td>0.277297</td>\n",
       "      <td>3.829271</td>\n",
       "    </tr>\n",
       "    <tr>\n",
       "      <th>2</th>\n",
       "      <td>2004-07-31 19:00:00</td>\n",
       "      <td>AL012004</td>\n",
       "      <td>-72.912953</td>\n",
       "      <td>-10.025802</td>\n",
       "      <td>-3.654504</td>\n",
       "      <td>2.555501</td>\n",
       "      <td>3.424653</td>\n",
       "      <td>-0.494754</td>\n",
       "    </tr>\n",
       "    <tr>\n",
       "      <th>3</th>\n",
       "      <td>2004-07-31 19:30:00</td>\n",
       "      <td>AL012004</td>\n",
       "      <td>-68.151672</td>\n",
       "      <td>-4.937895</td>\n",
       "      <td>2.328174</td>\n",
       "      <td>4.761281</td>\n",
       "      <td>5.087906</td>\n",
       "      <td>5.982678</td>\n",
       "    </tr>\n",
       "    <tr>\n",
       "      <th>4</th>\n",
       "      <td>2004-07-31 20:00:00</td>\n",
       "      <td>AL012004</td>\n",
       "      <td>-66.796416</td>\n",
       "      <td>-4.465255</td>\n",
       "      <td>11.307172</td>\n",
       "      <td>1.355256</td>\n",
       "      <td>0.472640</td>\n",
       "      <td>8.978998</td>\n",
       "    </tr>\n",
       "  </tbody>\n",
       "</table>\n",
       "</div>"
      ],
      "text/plain": [
       "                 time        ID   rad_pc_1   rad_pc_2   rad_pc_3  delta_pc_1  \\\n",
       "0 2004-07-31 18:00:00  AL012004 -84.852469 -13.727752  -6.989022         NaN   \n",
       "1 2004-07-31 18:30:00  AL012004 -75.468454 -13.450455  -3.159751    9.384015   \n",
       "2 2004-07-31 19:00:00  AL012004 -72.912953 -10.025802  -3.654504    2.555501   \n",
       "3 2004-07-31 19:30:00  AL012004 -68.151672  -4.937895   2.328174    4.761281   \n",
       "4 2004-07-31 20:00:00  AL012004 -66.796416  -4.465255  11.307172    1.355256   \n",
       "\n",
       "   delta_pc_2  delta_pc_3  \n",
       "0         NaN         NaN  \n",
       "1    0.277297    3.829271  \n",
       "2    3.424653   -0.494754  \n",
       "3    5.087906    5.982678  \n",
       "4    0.472640    8.978998  "
      ]
     },
     "execution_count": 183,
     "metadata": {},
     "output_type": "execute_result"
    }
   ],
   "source": [
    "data.head()"
   ]
  },
  {
   "cell_type": "code",
   "execution_count": 184,
   "metadata": {},
   "outputs": [],
   "source": [
    "del target_cols, result_cols"
   ]
  },
  {
   "cell_type": "code",
   "execution_count": null,
   "metadata": {},
   "outputs": [],
   "source": [
    "#TODO: TEST ACTUAL COEFFICIENTS FOR STATIONARITY??"
   ]
  },
  {
   "cell_type": "markdown",
   "metadata": {},
   "source": [
    "Set up regression matices for VAR model"
   ]
  },
  {
   "cell_type": "code",
   "execution_count": 201,
   "metadata": {},
   "outputs": [],
   "source": [
    "lags = [1, 2, 3, 4, 5, 6]\n",
    "target_cols = ['delta_pc_'+ x for x in ['1', '2', '3']]"
   ]
  },
  {
   "cell_type": "code",
   "execution_count": 202,
   "metadata": {},
   "outputs": [],
   "source": [
    "# Time to run: ~ 25 s\n",
    "# Get lagged values\n",
    "for lag in lags:\n",
    "    result_cols = ['delta_pc_'+ x + '-' + str(lag) for x in ['1', '2', '3']]\n",
    "    for id in ids:\n",
    "        temp = data.loc[data['ID'] == id, target_cols]\n",
    "        data.loc[data['ID'] == id, result_cols] = temp.shift(lag).to_numpy()"
   ]
  },
  {
   "cell_type": "code",
   "execution_count": 93,
   "metadata": {},
   "outputs": [
    {
     "data": {
      "text/html": [
       "<div>\n",
       "<style scoped>\n",
       "    .dataframe tbody tr th:only-of-type {\n",
       "        vertical-align: middle;\n",
       "    }\n",
       "\n",
       "    .dataframe tbody tr th {\n",
       "        vertical-align: top;\n",
       "    }\n",
       "\n",
       "    .dataframe thead th {\n",
       "        text-align: right;\n",
       "    }\n",
       "</style>\n",
       "<table border=\"1\" class=\"dataframe\">\n",
       "  <thead>\n",
       "    <tr style=\"text-align: right;\">\n",
       "      <th></th>\n",
       "      <th>time</th>\n",
       "      <th>ID</th>\n",
       "      <th>rad_pc_1</th>\n",
       "      <th>rad_pc_2</th>\n",
       "      <th>rad_pc_3</th>\n",
       "      <th>delta_pc_1</th>\n",
       "      <th>delta_pc_2</th>\n",
       "      <th>delta_pc_3</th>\n",
       "      <th>delta_pc_1-1</th>\n",
       "      <th>delta_pc_2-1</th>\n",
       "      <th>...</th>\n",
       "      <th>delta_pc_3-3</th>\n",
       "      <th>delta_pc_1-4</th>\n",
       "      <th>delta_pc_2-4</th>\n",
       "      <th>delta_pc_3-4</th>\n",
       "      <th>delta_pc_1-5</th>\n",
       "      <th>delta_pc_2-5</th>\n",
       "      <th>delta_pc_3-5</th>\n",
       "      <th>delta_pc_1-6</th>\n",
       "      <th>delta_pc_2-6</th>\n",
       "      <th>delta_pc_3-6</th>\n",
       "    </tr>\n",
       "  </thead>\n",
       "  <tbody>\n",
       "    <tr>\n",
       "      <th>0</th>\n",
       "      <td>2004-07-31 18:00:00</td>\n",
       "      <td>AL012004</td>\n",
       "      <td>-84.852469</td>\n",
       "      <td>-13.727752</td>\n",
       "      <td>-6.989022</td>\n",
       "      <td>NaN</td>\n",
       "      <td>NaN</td>\n",
       "      <td>NaN</td>\n",
       "      <td>NaN</td>\n",
       "      <td>NaN</td>\n",
       "      <td>...</td>\n",
       "      <td>NaN</td>\n",
       "      <td>NaN</td>\n",
       "      <td>NaN</td>\n",
       "      <td>NaN</td>\n",
       "      <td>NaN</td>\n",
       "      <td>NaN</td>\n",
       "      <td>NaN</td>\n",
       "      <td>NaN</td>\n",
       "      <td>NaN</td>\n",
       "      <td>NaN</td>\n",
       "    </tr>\n",
       "    <tr>\n",
       "      <th>1</th>\n",
       "      <td>2004-07-31 18:30:00</td>\n",
       "      <td>AL012004</td>\n",
       "      <td>-75.468454</td>\n",
       "      <td>-13.450455</td>\n",
       "      <td>-3.159751</td>\n",
       "      <td>9.384015</td>\n",
       "      <td>0.277297</td>\n",
       "      <td>3.829271</td>\n",
       "      <td>NaN</td>\n",
       "      <td>NaN</td>\n",
       "      <td>...</td>\n",
       "      <td>NaN</td>\n",
       "      <td>NaN</td>\n",
       "      <td>NaN</td>\n",
       "      <td>NaN</td>\n",
       "      <td>NaN</td>\n",
       "      <td>NaN</td>\n",
       "      <td>NaN</td>\n",
       "      <td>NaN</td>\n",
       "      <td>NaN</td>\n",
       "      <td>NaN</td>\n",
       "    </tr>\n",
       "    <tr>\n",
       "      <th>2</th>\n",
       "      <td>2004-07-31 19:00:00</td>\n",
       "      <td>AL012004</td>\n",
       "      <td>-72.912953</td>\n",
       "      <td>-10.025802</td>\n",
       "      <td>-3.654504</td>\n",
       "      <td>2.555501</td>\n",
       "      <td>3.424653</td>\n",
       "      <td>-0.494754</td>\n",
       "      <td>9.384015</td>\n",
       "      <td>0.277297</td>\n",
       "      <td>...</td>\n",
       "      <td>NaN</td>\n",
       "      <td>NaN</td>\n",
       "      <td>NaN</td>\n",
       "      <td>NaN</td>\n",
       "      <td>NaN</td>\n",
       "      <td>NaN</td>\n",
       "      <td>NaN</td>\n",
       "      <td>NaN</td>\n",
       "      <td>NaN</td>\n",
       "      <td>NaN</td>\n",
       "    </tr>\n",
       "    <tr>\n",
       "      <th>3</th>\n",
       "      <td>2004-07-31 19:30:00</td>\n",
       "      <td>AL012004</td>\n",
       "      <td>-68.151672</td>\n",
       "      <td>-4.937895</td>\n",
       "      <td>2.328174</td>\n",
       "      <td>4.761281</td>\n",
       "      <td>5.087906</td>\n",
       "      <td>5.982678</td>\n",
       "      <td>2.555501</td>\n",
       "      <td>3.424653</td>\n",
       "      <td>...</td>\n",
       "      <td>NaN</td>\n",
       "      <td>NaN</td>\n",
       "      <td>NaN</td>\n",
       "      <td>NaN</td>\n",
       "      <td>NaN</td>\n",
       "      <td>NaN</td>\n",
       "      <td>NaN</td>\n",
       "      <td>NaN</td>\n",
       "      <td>NaN</td>\n",
       "      <td>NaN</td>\n",
       "    </tr>\n",
       "    <tr>\n",
       "      <th>4</th>\n",
       "      <td>2004-07-31 20:00:00</td>\n",
       "      <td>AL012004</td>\n",
       "      <td>-66.796416</td>\n",
       "      <td>-4.465255</td>\n",
       "      <td>11.307172</td>\n",
       "      <td>1.355256</td>\n",
       "      <td>0.472640</td>\n",
       "      <td>8.978998</td>\n",
       "      <td>4.761281</td>\n",
       "      <td>5.087906</td>\n",
       "      <td>...</td>\n",
       "      <td>3.829271</td>\n",
       "      <td>NaN</td>\n",
       "      <td>NaN</td>\n",
       "      <td>NaN</td>\n",
       "      <td>NaN</td>\n",
       "      <td>NaN</td>\n",
       "      <td>NaN</td>\n",
       "      <td>NaN</td>\n",
       "      <td>NaN</td>\n",
       "      <td>NaN</td>\n",
       "    </tr>\n",
       "  </tbody>\n",
       "</table>\n",
       "<p>5 rows × 26 columns</p>\n",
       "</div>"
      ],
      "text/plain": [
       "                 time        ID   rad_pc_1   rad_pc_2   rad_pc_3  delta_pc_1  \\\n",
       "0 2004-07-31 18:00:00  AL012004 -84.852469 -13.727752  -6.989022         NaN   \n",
       "1 2004-07-31 18:30:00  AL012004 -75.468454 -13.450455  -3.159751    9.384015   \n",
       "2 2004-07-31 19:00:00  AL012004 -72.912953 -10.025802  -3.654504    2.555501   \n",
       "3 2004-07-31 19:30:00  AL012004 -68.151672  -4.937895   2.328174    4.761281   \n",
       "4 2004-07-31 20:00:00  AL012004 -66.796416  -4.465255  11.307172    1.355256   \n",
       "\n",
       "   delta_pc_2  delta_pc_3  delta_pc_1-1  delta_pc_2-1  ...  delta_pc_3-3  \\\n",
       "0         NaN         NaN           NaN           NaN  ...           NaN   \n",
       "1    0.277297    3.829271           NaN           NaN  ...           NaN   \n",
       "2    3.424653   -0.494754      9.384015      0.277297  ...           NaN   \n",
       "3    5.087906    5.982678      2.555501      3.424653  ...           NaN   \n",
       "4    0.472640    8.978998      4.761281      5.087906  ...      3.829271   \n",
       "\n",
       "   delta_pc_1-4  delta_pc_2-4  delta_pc_3-4  delta_pc_1-5  delta_pc_2-5  \\\n",
       "0           NaN           NaN           NaN           NaN           NaN   \n",
       "1           NaN           NaN           NaN           NaN           NaN   \n",
       "2           NaN           NaN           NaN           NaN           NaN   \n",
       "3           NaN           NaN           NaN           NaN           NaN   \n",
       "4           NaN           NaN           NaN           NaN           NaN   \n",
       "\n",
       "   delta_pc_3-5  delta_pc_1-6  delta_pc_2-6  delta_pc_3-6  \n",
       "0           NaN           NaN           NaN           NaN  \n",
       "1           NaN           NaN           NaN           NaN  \n",
       "2           NaN           NaN           NaN           NaN  \n",
       "3           NaN           NaN           NaN           NaN  \n",
       "4           NaN           NaN           NaN           NaN  \n",
       "\n",
       "[5 rows x 26 columns]"
      ]
     },
     "execution_count": 93,
     "metadata": {},
     "output_type": "execute_result"
    }
   ],
   "source": [
    "data.head()"
   ]
  },
  {
   "cell_type": "code",
   "execution_count": 218,
   "metadata": {},
   "outputs": [],
   "source": [
    "# Set VAR parameters (make a function out of all this)\n",
    "# p in {1, 2, 3, 4, 5, 6}\n",
    "# k in {1, 2, 3}\n",
    "# Have checked this against built-in python methods and it gives the correct estimates\n",
    "\n",
    "def vectorAR(data, p, k):\n",
    "    lags = [str(x) for x in range(1, p+1)]\n",
    "    pcs = [str(x) for x in range(1, k+1)]\n",
    "\n",
    "    # Columns to be used for Y - k x n matrix\n",
    "    Y_cols = ['delta_pc_' + x for x in pcs]\n",
    "\n",
    "    # Columns to be used for Z - kp x n matrix\n",
    "    Z_cols = [x + '-' + y for y, x in itertools.product(lags, Y_cols)]\n",
    "    all_cols = Y_cols + Z_cols\n",
    "    \n",
    "    # Get columns needed for regression\n",
    "    data_sliced = data[all_cols].copy()\n",
    "    data_sliced.dropna(inplace=True) # Get rid of any missigness.\n",
    "\n",
    "    # Construct Y and Z for regression\n",
    "    Y = data_sliced[Y_cols].to_numpy().T\n",
    "    Z = data_sliced[Z_cols].to_numpy().T\n",
    "    n = Y.shape[1]\n",
    "\n",
    "    # Do regression. See: https://en.wikipedia.org/wiki/Vector_autoregression#Estimation\n",
    "    # and \"Time series analysis and applications\" text for details\n",
    "    ZZT = Z @ Z.T\n",
    "    ZZTinv = np.linalg.inv(ZZT)\n",
    "    YZT = Y @ Z.T\n",
    "    B = YZT @ ZZTinv\n",
    "    coef_est = np.array(np.split(B, p, axis = 1))\n",
    "\n",
    "    resid = Y - B @ Z\n",
    "    sigma_est = (resid @ resid.T)/n\n",
    "\n",
    "    def correlation_from_covariance(covariance):\n",
    "        v = np.sqrt(np.diag(covariance))\n",
    "        outer_v = np.outer(v, v)\n",
    "        correlation = covariance / outer_v\n",
    "        correlation[covariance == 0] = 0\n",
    "        return correlation\n",
    "\n",
    "    corr_est = correlation_from_covariance(sigma_est)\n",
    "\n",
    "    return [coef_est, sigma_est, corr_est, n]"
   ]
  },
  {
   "cell_type": "markdown",
   "metadata": {},
   "source": [
    "Do BIC for model selection of model order."
   ]
  },
  {
   "cell_type": "code",
   "execution_count": 196,
   "metadata": {},
   "outputs": [],
   "source": [
    "def BIC(sigma_est, k, p, n):\n",
    "    return np.log(np.linalg.det(sigma_est)) + (k**2)*p*np.log(n)/n"
   ]
  },
  {
   "cell_type": "code",
   "execution_count": 205,
   "metadata": {},
   "outputs": [
    {
     "name": "stdout",
     "output_type": "stream",
     "text": [
      "p = 1 \n",
      "--------------\n",
      "n: 101888\n",
      "BIC: 13.87154225840301\n",
      "\n",
      "\n",
      "p = 2 \n",
      "--------------\n",
      "n: 101390\n",
      "BIC: 13.749841015333471\n",
      "\n",
      "\n",
      "p = 3 \n",
      "--------------\n",
      "n: 100895\n",
      "BIC: 13.744122366573409\n",
      "\n",
      "\n",
      "p = 4 \n",
      "--------------\n",
      "n: 100404\n",
      "BIC: 13.733636145635272\n",
      "\n",
      "\n",
      "p = 5 \n",
      "--------------\n",
      "n: 99923\n",
      "BIC: 13.726062009788954\n",
      "\n",
      "\n",
      "p = 6 \n",
      "--------------\n",
      "n: 99443\n",
      "BIC: 13.724047584593535\n",
      "\n",
      "\n"
     ]
    }
   ],
   "source": [
    "for p in [1, 2, 3, 4, 5, 6]:\n",
    "    coef_est, sigma_est, corr_est, n = vectorAR(data, p, 3)\n",
    "    bic = BIC(sigma_est, 3, p, n)\n",
    "    print(f'p = {p} \\n--------------')\n",
    "    print(f'n: {n}')\n",
    "    print(f'BIC: {bic}')\n",
    "    print('\\n')\n"
   ]
  },
  {
   "cell_type": "code",
   "execution_count": 262,
   "metadata": {},
   "outputs": [
    {
     "data": {
      "text/plain": [
       "array([[[-0.0183735 , -0.65644809],\n",
       "        [-0.34968365,  0.17331294]],\n",
       "\n",
       "       [[ 0.0135909 , -0.18472904],\n",
       "        [-0.03501105, -0.0318501 ]]])"
      ]
     },
     "execution_count": 262,
     "metadata": {},
     "output_type": "execute_result"
    }
   ],
   "source": [
    "coef_est, sigma_est, corr_est, n = vectorAR(data, 2, 2)\n",
    "coef_est"
   ]
  },
  {
   "cell_type": "code",
   "execution_count": null,
   "metadata": {},
   "outputs": [],
   "source": [
    "# Define your own VAR class that can simulate from scratch, or simulate given a starting sequence of data (pc differences)\n",
    "\n",
    "# Make plots of pc1 and pc2 evolving in pc space over the course of a storm for both simulated and real data\n",
    "\n",
    "# Get simualtions going to check for validity. MAYBE get simulations going to check for power. "
   ]
  },
  {
   "cell_type": "code",
   "execution_count": 325,
   "metadata": {},
   "outputs": [],
   "source": [
    "class VarProcess:\n",
    "    def __init__(self, coefs, sigma):\n",
    "        \"\"\"\n",
    "        Parameters:\n",
    "            - coefs (np.ndarray): p x k x k array holding coefficients for the VAR model.\n",
    "            - sigma (np.ndarray): k x k covariance matrix for gaussian noise on the VAR model.\n",
    "        \"\"\"\n",
    "        self.coefs = coefs\n",
    "        self.sigma = sigma\n",
    "        self.p = coefs.shape[0]\n",
    "        self.k = coefs.shape[1]\n",
    "        \n",
    "        assert coefs.shape[1] == coefs.shape[2], 'coefs has improper dimensions.'\n",
    "\n",
    "\n",
    "    def generate_sample(self, nsample=100, burnin=100, starters=None):\n",
    "        \"\"\"\n",
    "        Generate a simulated sample from the VAR model, with or without a starter sequence\n",
    "\n",
    "        Parameters:\n",
    "        - nsample (int):\n",
    "        - burnin (int): If starters == None, how many data points at beginning of\n",
    "            simulation to throw out?\n",
    "        - starters (np.ndarray): If None, generate unconcitionally. Otherwise, \n",
    "            an n x k ndarray of observations to start off the party. Must be the\n",
    "            case that n >= p\n",
    "        - f (function): Takes starters as an argument, \n",
    "        \"\"\"\n",
    "\n",
    "        # Initialize with zeros if no starters provided\n",
    "        if starters is None:\n",
    "            starters = np.zeros((self.p, self.k))\n",
    "            nstarters = self.p\n",
    "            nsim = nsample + burnin \n",
    "        else:\n",
    "            nstarters = starters.shape[0]\n",
    "            assert nstarters >= self.p, 'Must provide at least p observations in starters.'\n",
    "            nsim = nsample\n",
    "            burnin = 0\n",
    "        \n",
    "        # Simulate errors\n",
    "        W =  np.random.multivariate_normal(np.zeros(self.k), self.sigma, size=nsim)\n",
    "        \n",
    "        # Simulate process\n",
    "        Y = np.zeros((nsim, self.k))\n",
    "        Y[:nstarters,:] = starters\n",
    "        \n",
    "        for t in range(nstarters, nsim):\n",
    "            Y[t] = W[t]\n",
    "            for i in range(1, self.p+1):\n",
    "                Y[t] += self.coefs[i-1] @ Y[t-i]\n",
    "        \n",
    "        Y = Y[burnin:]\n",
    "        \n",
    "        return Y"
   ]
  },
  {
   "cell_type": "code",
   "execution_count": 332,
   "metadata": {},
   "outputs": [],
   "source": [
    "start = np.array([[1, 2], [3, 4]])\n",
    "fake_coef = np.array([[[0.5, -0.25], [-0.25, 0.5]], [[-0.2, 0.1], [0.1, -0.2]]])\n",
    "fake_sig = np.eye(2)"
   ]
  },
  {
   "cell_type": "code",
   "execution_count": 340,
   "metadata": {},
   "outputs": [],
   "source": [
    "a = VarProcess(fake_coef, fake_sig)\n",
    "Y = a.generate_sample(nsample = 10000, starters = start, burnin=100)"
   ]
  },
  {
   "cell_type": "code",
   "execution_count": 343,
   "metadata": {},
   "outputs": [
    {
     "data": {
      "text/plain": [
       "array([[ 1.00000000e+00,  2.00000000e+00],\n",
       "       [ 3.00000000e+00,  4.00000000e+00],\n",
       "       [ 1.48722888e+00,  2.22501541e+00],\n",
       "       ...,\n",
       "       [ 2.54342300e-01,  1.64318888e+00],\n",
       "       [-8.98633352e-01, -2.98855689e-03],\n",
       "       [-3.79542314e-01,  1.71007163e-01]])"
      ]
     },
     "execution_count": 343,
     "metadata": {},
     "output_type": "execute_result"
    }
   ],
   "source": [
    "Y"
   ]
  },
  {
   "cell_type": "code",
   "execution_count": 344,
   "metadata": {},
   "outputs": [
    {
     "data": {
      "text/plain": [
       "  Summary of Regression Results   \n",
       "==================================\n",
       "Model:                         VAR\n",
       "Method:                        OLS\n",
       "Date:           Sun, 20, Mar, 2022\n",
       "Time:                     22:32:23\n",
       "--------------------------------------------------------------------\n",
       "No. of Equations:         2.00000    BIC:                -0.00470152\n",
       "Nobs:                     9998.00    HQIC:               -0.00947201\n",
       "Log likelihood:          -28303.5    FPE:                   0.988158\n",
       "AIC:                   -0.0119131    Det(Omega_mle):        0.987170\n",
       "--------------------------------------------------------------------\n",
       "Results for equation y1\n",
       "========================================================================\n",
       "           coefficient       std. error           t-stat            prob\n",
       "------------------------------------------------------------------------\n",
       "const        -0.004334         0.010018           -0.433           0.665\n",
       "L1.y1         0.493158         0.009736           50.655           0.000\n",
       "L1.y2        -0.252882         0.009882          -25.590           0.000\n",
       "L2.y1        -0.197542         0.009764          -20.233           0.000\n",
       "L2.y2         0.115137         0.009852           11.687           0.000\n",
       "========================================================================\n",
       "\n",
       "Results for equation y2\n",
       "========================================================================\n",
       "           coefficient       std. error           t-stat            prob\n",
       "------------------------------------------------------------------------\n",
       "const        -0.002981         0.009920           -0.301           0.764\n",
       "L1.y1        -0.248020         0.009640          -25.728           0.000\n",
       "L1.y2         0.479080         0.009785           48.959           0.000\n",
       "L2.y1         0.095061         0.009668            9.833           0.000\n",
       "L2.y2        -0.180886         0.009755          -18.542           0.000\n",
       "========================================================================\n",
       "\n",
       "Correlation matrix of residuals\n",
       "            y1        y2\n",
       "y1    1.000000  0.000301\n",
       "y2    0.000301  1.000000\n",
       "\n"
      ]
     },
     "execution_count": 344,
     "metadata": {},
     "output_type": "execute_result"
    }
   ],
   "source": [
    "var_model = VAR(Y)\n",
    "vm_fit = var_model.fit(2)\n",
    "vm_fit.summary()"
   ]
  },
  {
   "cell_type": "code",
   "execution_count": 336,
   "metadata": {},
   "outputs": [],
   "source": [
    "from statsmodels.tsa.api import VAR"
   ]
  },
  {
   "cell_type": "code",
   "execution_count": 166,
   "metadata": {},
   "outputs": [],
   "source": [
    "q = data.loc[data['ID'] == 'AL062010', ['delta_pc_'+x for x in ['1', '2', '3']]].dropna().reset_index(drop = True)"
   ]
  },
  {
   "cell_type": "code",
   "execution_count": 167,
   "metadata": {},
   "outputs": [],
   "source": [
    "var_model = VAR(q)\n",
    "vm_fit = var_model.fit(2)\n",
    "vm_fit.summary()"
   ]
  },
  {
   "cell_type": "code",
   "execution_count": 178,
   "metadata": {},
   "outputs": [
    {
     "data": {
      "text/plain": [
       "([array([[ 0.44512357, -0.00733287,  0.16004283],\n",
       "         [ 0.04841022,  0.63731111, -0.06472015],\n",
       "         [ 0.0443343 ,  0.0503207 ,  0.60633131]]),\n",
       "  array([[ 0.00624555, -0.120006  , -0.21284595],\n",
       "         [ 0.05791643,  0.07503895,  0.04895411],\n",
       "         [-0.05670574,  0.08186106, -0.09490859]])],\n",
       " array([[ 1.        , -0.46481252,  0.24944005],\n",
       "        [-0.46481252,  1.        , -0.47676434],\n",
       "        [ 0.24944005, -0.47676434,  1.        ]]))"
      ]
     },
     "execution_count": 178,
     "metadata": {},
     "output_type": "execute_result"
    }
   ],
   "source": [
    "coef_est, corr_est"
   ]
  },
  {
   "cell_type": "code",
   "execution_count": 66,
   "metadata": {},
   "outputs": [],
   "source": [
    "tst_to_model.diff().to_csv('data/testing_var_fit.csv', index=False)"
   ]
  },
  {
   "cell_type": "code",
   "execution_count": 345,
   "metadata": {},
   "outputs": [],
   "source": [
    "import sequentialGOF as gof"
   ]
  },
  {
   "cell_type": "code",
   "execution_count": null,
   "metadata": {},
   "outputs": [],
   "source": [
    "class DataConstructor:\n",
    "    def __init__(self, real_data, generative_mod, ntrain, neval, mtrain, meval, L, J, null_hyp = False):\n",
    "        assert ntrain + neval <= len(real_data), f\"ntrain + neval = {ntrain + neval}, len(real_data) = {len(real_data)}.\"\n",
    "\n",
    "        train_data = real_data.iloc[:ntrain]\n",
    "        test_data = real_data.iloc[ntrain:(ntrain+neval)].reset_index(drop = True)     \n",
    "\n",
    "        cols = list(real_data.columns)\n",
    "        self.seq_cols = cols\n",
    "\n",
    "        def get_generated(row, m, add_label = True):\n",
    "            S = row.to_numpy()\n",
    "            A = S[:J]\n",
    "            \n",
    "            # If generating under the null, create list of all generated sequences, \n",
    "            # otherwise, use the real sequence as the first element of the list\n",
    "            if null_hyp:\n",
    "                seq_list = []\n",
    "                m_rep = m + 1\n",
    "            else:\n",
    "                seq_list = [S]\n",
    "                m_rep = m\n",
    "\n",
    "            for jj in range(m_rep):\n",
    "                seq_list.append(generative_mod.generate_sample_custom(nsample = L - J, starters = A))\n",
    "            df = pd.DataFrame(seq_list, columns = cols)\n",
    "            \n",
    "            if add_label:\n",
    "                labs = np.zeros(m+1, dtype = int)\n",
    "                labs[0] = 1\n",
    "                df['Y'] = labs\n",
    "            \n",
    "            return df\n",
    "\n",
    "        # Construct training set\n",
    "        T_list = []\n",
    "        for row in train_data.iterrows():\n",
    "            T_list.append(get_generated(row[1], mtrain))\n",
    "        T = pd.concat(T_list, ignore_index = True)\n",
    "        self.training = T\n",
    "\n",
    "        # Construct evaluation set\n",
    "        if neval > 0:\n",
    "            V_list = []\n",
    "            for row in test_data.iterrows():\n",
    "                V_list.append(get_generated(row[1], meval))\n",
    "            V = pd.concat(V_list, ignore_index = True)\n",
    "            self.evaluation = V\n",
    "        else:\n",
    "            self.evaluation = None"
   ]
  }
 ],
 "metadata": {
  "interpreter": {
   "hash": "4d0f3920c5debe17d12e6aa9a2901c84930778291edca64199a278e3518a9b6f"
  },
  "kernelspec": {
   "display_name": "Python 3.7.10 ('seq-goodness-of-fit')",
   "language": "python",
   "name": "python3"
  },
  "language_info": {
   "codemirror_mode": {
    "name": "ipython",
    "version": 3
   },
   "file_extension": ".py",
   "mimetype": "text/x-python",
   "name": "python",
   "nbconvert_exporter": "python",
   "pygments_lexer": "ipython3",
   "version": "3.7.10"
  },
  "orig_nbformat": 4
 },
 "nbformat": 4,
 "nbformat_minor": 2
}
